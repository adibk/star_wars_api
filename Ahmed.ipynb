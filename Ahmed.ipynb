{
 "cells": [
  {
   "cell_type": "code",
   "execution_count": null,
   "id": "0535ad19",
   "metadata": {},
   "outputs": [],
   "source": [
    "import requests\n",
    "import pandas as pd\n",
    "from pandas import json_normalize\n",
    "\n",
    "\n",
    "def get_starships():\n",
    "\n",
    "    url = \"https://swapi.dev/api/starships/\"\n",
    "\n",
    "    data_total = []\n",
    "    response = requests.get(url)\n",
    "    data = response.json()\n",
    "    data_total = data_total + data['results']\n",
    "\n",
    "    while data['next'] is not None:\n",
    "        print(\"Page suivante trouvée, chargement ...\", data['next'])\n",
    "        response = requests.get(data['next'])\n",
    "        data = response.json()\n",
    "        data_total = data_total + data['results']\n",
    "        print('On a', len(data_total), 'resultats')\n",
    "print(get_starships())\n",
    "df = json_normalize(data_total)\n",
    "df"
   ]
  },
  {
   "cell_type": "code",
   "execution_count": null,
   "id": "a2fa4327",
   "metadata": {},
   "outputs": [
    {
     "name": "stdout",
     "output_type": "stream",
     "text": [
      "\n",
      "{\n",
      "    \"name\": \"CR90 corvette\",\n",
      "    \"model\": \"CR90 corvette\",\n",
      "    \"manufacturer\": \"Corellian Engineering Corporation\",\n",
      "    \"cost_in_credits\": \"3500000\",\n",
      "    \"length\": \"150\",\n",
      "    \"max_atmosphering_speed\": \"950\",\n",
      "    \"crew\": \"30-165\",\n",
      "    \"passengers\": \"600\",\n",
      "    \"cargo_capacity\": \"3000000\",\n",
      "    \"consumables\": \"1 year\",\n",
      "    \"hyperdrive_rating\": \"2.0\",\n",
      "    \"MGLT\": \"60\",\n",
      "    \"starship_class\": \"corvette\",\n",
      "    \"pilots\": [],\n",
      "    \"films\": [\n",
      "        \"https://swapi.dev/api/films/1/\",\n",
      "        \"https://swapi.dev/api/films/3/\",\n",
      "        \"https://swapi.dev/api/films/6/\"\n",
      "    ],\n",
      "    \"created\": \"2014-12-10T14:20:33.369000Z\",\n",
      "    \"edited\": \"2014-12-20T21:23:49.867000Z\",\n",
      "    \"url\": \"https://swapi.dev/api/starships/2/\"\n",
      "}\n"
     ]
    }
   ],
   "source": []
  },
  {
   "cell_type": "code",
   "execution_count": null,
   "id": "a57c2ce7",
   "metadata": {},
   "outputs": [],
   "source": []
  }
 ],
 "metadata": {
  "kernelspec": {
   "display_name": "Python 3 (ipykernel)",
   "language": "python",
   "name": "python3"
  },
  "language_info": {
   "codemirror_mode": {
    "name": "ipython",
    "version": 3
   },
   "file_extension": ".py",
   "mimetype": "text/x-python",
   "name": "python",
   "nbconvert_exporter": "python",
   "pygments_lexer": "ipython3",
   "version": "3.10.6"
  },
  "toc": {
   "base_numbering": 1,
   "nav_menu": {},
   "number_sections": true,
   "sideBar": true,
   "skip_h1_title": false,
   "title_cell": "Table of Contents",
   "title_sidebar": "Contents",
   "toc_cell": false,
   "toc_position": {},
   "toc_section_display": true,
   "toc_window_display": false
  }
 },
 "nbformat": 4,
 "nbformat_minor": 5
}
