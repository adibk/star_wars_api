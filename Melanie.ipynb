{
 "cells": [
  {
   "cell_type": "markdown",
   "id": "b20f730c",
   "metadata": {
    "heading_collapsed": true
   },
   "source": [
    "# Test"
   ]
  },
  {
   "cell_type": "code",
   "execution_count": 1,
   "id": "47c57e47",
   "metadata": {
    "hidden": true
   },
   "outputs": [
    {
     "data": {
      "text/plain": [
       "{'message': 'ok',\n",
       " 'result': {'properties': {'height': '172',\n",
       "   'mass': '77',\n",
       "   'hair_color': 'blond',\n",
       "   'skin_color': 'fair',\n",
       "   'eye_color': 'blue',\n",
       "   'birth_year': '19BBY',\n",
       "   'gender': 'male',\n",
       "   'created': '2024-03-07T07:07:15.111Z',\n",
       "   'edited': '2024-03-07T07:07:15.111Z',\n",
       "   'name': 'Luke Skywalker',\n",
       "   'homeworld': 'https://www.swapi.tech/api/planets/1',\n",
       "   'url': 'https://www.swapi.tech/api/people/1'},\n",
       "  'description': 'A person within the Star Wars universe',\n",
       "  '_id': '5f63a36eee9fd7000499be42',\n",
       "  'uid': '1',\n",
       "  '__v': 0}}"
      ]
     },
     "execution_count": 1,
     "metadata": {},
     "output_type": "execute_result"
    }
   ],
   "source": [
    "import requests\n",
    "\n",
    "url = \"https://swapi.tech/api/people/1/\"\n",
    "response = requests.get(url)\n",
    "characters = response.json()\n",
    "\n",
    "characters"
   ]
  },
  {
   "cell_type": "code",
   "execution_count": 2,
   "id": "4f284fe0",
   "metadata": {
    "hidden": true
   },
   "outputs": [
    {
     "data": {
      "text/html": [
       "<div>\n",
       "<style scoped>\n",
       "    .dataframe tbody tr th:only-of-type {\n",
       "        vertical-align: middle;\n",
       "    }\n",
       "\n",
       "    .dataframe tbody tr th {\n",
       "        vertical-align: top;\n",
       "    }\n",
       "\n",
       "    .dataframe thead th {\n",
       "        text-align: right;\n",
       "    }\n",
       "</style>\n",
       "<table border=\"1\" class=\"dataframe\">\n",
       "  <thead>\n",
       "    <tr style=\"text-align: right;\">\n",
       "      <th></th>\n",
       "      <th>uid</th>\n",
       "      <th>name</th>\n",
       "      <th>url</th>\n",
       "    </tr>\n",
       "  </thead>\n",
       "  <tbody>\n",
       "    <tr>\n",
       "      <th>0</th>\n",
       "      <td>1</td>\n",
       "      <td>Luke Skywalker</td>\n",
       "      <td>https://www.swapi.tech/api/people/1</td>\n",
       "    </tr>\n",
       "    <tr>\n",
       "      <th>1</th>\n",
       "      <td>2</td>\n",
       "      <td>C-3PO</td>\n",
       "      <td>https://www.swapi.tech/api/people/2</td>\n",
       "    </tr>\n",
       "    <tr>\n",
       "      <th>2</th>\n",
       "      <td>3</td>\n",
       "      <td>R2-D2</td>\n",
       "      <td>https://www.swapi.tech/api/people/3</td>\n",
       "    </tr>\n",
       "    <tr>\n",
       "      <th>3</th>\n",
       "      <td>4</td>\n",
       "      <td>Darth Vader</td>\n",
       "      <td>https://www.swapi.tech/api/people/4</td>\n",
       "    </tr>\n",
       "    <tr>\n",
       "      <th>4</th>\n",
       "      <td>5</td>\n",
       "      <td>Leia Organa</td>\n",
       "      <td>https://www.swapi.tech/api/people/5</td>\n",
       "    </tr>\n",
       "    <tr>\n",
       "      <th>5</th>\n",
       "      <td>6</td>\n",
       "      <td>Owen Lars</td>\n",
       "      <td>https://www.swapi.tech/api/people/6</td>\n",
       "    </tr>\n",
       "    <tr>\n",
       "      <th>6</th>\n",
       "      <td>7</td>\n",
       "      <td>Beru Whitesun lars</td>\n",
       "      <td>https://www.swapi.tech/api/people/7</td>\n",
       "    </tr>\n",
       "    <tr>\n",
       "      <th>7</th>\n",
       "      <td>8</td>\n",
       "      <td>R5-D4</td>\n",
       "      <td>https://www.swapi.tech/api/people/8</td>\n",
       "    </tr>\n",
       "    <tr>\n",
       "      <th>8</th>\n",
       "      <td>9</td>\n",
       "      <td>Biggs Darklighter</td>\n",
       "      <td>https://www.swapi.tech/api/people/9</td>\n",
       "    </tr>\n",
       "    <tr>\n",
       "      <th>9</th>\n",
       "      <td>10</td>\n",
       "      <td>Obi-Wan Kenobi</td>\n",
       "      <td>https://www.swapi.tech/api/people/10</td>\n",
       "    </tr>\n",
       "  </tbody>\n",
       "</table>\n",
       "</div>"
      ],
      "text/plain": [
       "  uid                name                                   url\n",
       "0   1      Luke Skywalker   https://www.swapi.tech/api/people/1\n",
       "1   2               C-3PO   https://www.swapi.tech/api/people/2\n",
       "2   3               R2-D2   https://www.swapi.tech/api/people/3\n",
       "3   4         Darth Vader   https://www.swapi.tech/api/people/4\n",
       "4   5         Leia Organa   https://www.swapi.tech/api/people/5\n",
       "5   6           Owen Lars   https://www.swapi.tech/api/people/6\n",
       "6   7  Beru Whitesun lars   https://www.swapi.tech/api/people/7\n",
       "7   8               R5-D4   https://www.swapi.tech/api/people/8\n",
       "8   9   Biggs Darklighter   https://www.swapi.tech/api/people/9\n",
       "9  10      Obi-Wan Kenobi  https://www.swapi.tech/api/people/10"
      ]
     },
     "metadata": {},
     "output_type": "display_data"
    }
   ],
   "source": [
    "import requests\n",
    "import pandas as pd\n",
    "\n",
    "response = requests.get(\"https://swapi.tech/api/people/\")\n",
    "\n",
    "if response.status_code == 200:\n",
    "    data = response.json()\n",
    "    df = pd.DataFrame(data['results'])\n",
    "\n",
    "    display (df)\n",
    "else:\n",
    "    print(\"Erreur\")"
   ]
  },
  {
   "cell_type": "code",
   "execution_count": 3,
   "id": "971537ce",
   "metadata": {
    "hidden": true
   },
   "outputs": [
    {
     "data": {
      "text/plain": [
       "{'uid': '1',\n",
       " 'name': 'Luke Skywalker',\n",
       " 'url': 'https://www.swapi.tech/api/people/1'}"
      ]
     },
     "metadata": {},
     "output_type": "display_data"
    },
    {
     "data": {
      "text/plain": [
       "{'uid': '2', 'name': 'C-3PO', 'url': 'https://www.swapi.tech/api/people/2'}"
      ]
     },
     "metadata": {},
     "output_type": "display_data"
    },
    {
     "data": {
      "text/plain": [
       "{'uid': '3', 'name': 'R2-D2', 'url': 'https://www.swapi.tech/api/people/3'}"
      ]
     },
     "metadata": {},
     "output_type": "display_data"
    },
    {
     "data": {
      "text/plain": [
       "{'uid': '4',\n",
       " 'name': 'Darth Vader',\n",
       " 'url': 'https://www.swapi.tech/api/people/4'}"
      ]
     },
     "metadata": {},
     "output_type": "display_data"
    },
    {
     "data": {
      "text/plain": [
       "{'uid': '5',\n",
       " 'name': 'Leia Organa',\n",
       " 'url': 'https://www.swapi.tech/api/people/5'}"
      ]
     },
     "metadata": {},
     "output_type": "display_data"
    },
    {
     "data": {
      "text/plain": [
       "{'uid': '6', 'name': 'Owen Lars', 'url': 'https://www.swapi.tech/api/people/6'}"
      ]
     },
     "metadata": {},
     "output_type": "display_data"
    },
    {
     "data": {
      "text/plain": [
       "{'uid': '7',\n",
       " 'name': 'Beru Whitesun lars',\n",
       " 'url': 'https://www.swapi.tech/api/people/7'}"
      ]
     },
     "metadata": {},
     "output_type": "display_data"
    },
    {
     "data": {
      "text/plain": [
       "{'uid': '8', 'name': 'R5-D4', 'url': 'https://www.swapi.tech/api/people/8'}"
      ]
     },
     "metadata": {},
     "output_type": "display_data"
    },
    {
     "data": {
      "text/plain": [
       "{'uid': '9',\n",
       " 'name': 'Biggs Darklighter',\n",
       " 'url': 'https://www.swapi.tech/api/people/9'}"
      ]
     },
     "metadata": {},
     "output_type": "display_data"
    },
    {
     "data": {
      "text/plain": [
       "{'uid': '10',\n",
       " 'name': 'Obi-Wan Kenobi',\n",
       " 'url': 'https://www.swapi.tech/api/people/10'}"
      ]
     },
     "metadata": {},
     "output_type": "display_data"
    },
    {
     "data": {
      "text/plain": [
       "{'uid': '11',\n",
       " 'name': 'Anakin Skywalker',\n",
       " 'url': 'https://www.swapi.tech/api/people/11'}"
      ]
     },
     "metadata": {},
     "output_type": "display_data"
    },
    {
     "data": {
      "text/plain": [
       "{'uid': '12',\n",
       " 'name': 'Wilhuff Tarkin',\n",
       " 'url': 'https://www.swapi.tech/api/people/12'}"
      ]
     },
     "metadata": {},
     "output_type": "display_data"
    },
    {
     "data": {
      "text/plain": [
       "{'uid': '13',\n",
       " 'name': 'Chewbacca',\n",
       " 'url': 'https://www.swapi.tech/api/people/13'}"
      ]
     },
     "metadata": {},
     "output_type": "display_data"
    },
    {
     "data": {
      "text/plain": [
       "{'uid': '14',\n",
       " 'name': 'Han Solo',\n",
       " 'url': 'https://www.swapi.tech/api/people/14'}"
      ]
     },
     "metadata": {},
     "output_type": "display_data"
    },
    {
     "data": {
      "text/plain": [
       "{'uid': '15', 'name': 'Greedo', 'url': 'https://www.swapi.tech/api/people/15'}"
      ]
     },
     "metadata": {},
     "output_type": "display_data"
    },
    {
     "data": {
      "text/plain": [
       "{'uid': '16',\n",
       " 'name': 'Jabba Desilijic Tiure',\n",
       " 'url': 'https://www.swapi.tech/api/people/16'}"
      ]
     },
     "metadata": {},
     "output_type": "display_data"
    },
    {
     "data": {
      "text/plain": [
       "{'uid': '18',\n",
       " 'name': 'Wedge Antilles',\n",
       " 'url': 'https://www.swapi.tech/api/people/18'}"
      ]
     },
     "metadata": {},
     "output_type": "display_data"
    },
    {
     "data": {
      "text/plain": [
       "{'uid': '19',\n",
       " 'name': 'Jek Tono Porkins',\n",
       " 'url': 'https://www.swapi.tech/api/people/19'}"
      ]
     },
     "metadata": {},
     "output_type": "display_data"
    },
    {
     "data": {
      "text/plain": [
       "{'uid': '20', 'name': 'Yoda', 'url': 'https://www.swapi.tech/api/people/20'}"
      ]
     },
     "metadata": {},
     "output_type": "display_data"
    },
    {
     "data": {
      "text/plain": [
       "{'uid': '21',\n",
       " 'name': 'Palpatine',\n",
       " 'url': 'https://www.swapi.tech/api/people/21'}"
      ]
     },
     "metadata": {},
     "output_type": "display_data"
    },
    {
     "data": {
      "text/plain": [
       "{'uid': '22',\n",
       " 'name': 'Boba Fett',\n",
       " 'url': 'https://www.swapi.tech/api/people/22'}"
      ]
     },
     "metadata": {},
     "output_type": "display_data"
    },
    {
     "data": {
      "text/plain": [
       "{'uid': '23', 'name': 'IG-88', 'url': 'https://www.swapi.tech/api/people/23'}"
      ]
     },
     "metadata": {},
     "output_type": "display_data"
    },
    {
     "data": {
      "text/plain": [
       "{'uid': '24', 'name': 'Bossk', 'url': 'https://www.swapi.tech/api/people/24'}"
      ]
     },
     "metadata": {},
     "output_type": "display_data"
    },
    {
     "data": {
      "text/plain": [
       "{'uid': '25',\n",
       " 'name': 'Lando Calrissian',\n",
       " 'url': 'https://www.swapi.tech/api/people/25'}"
      ]
     },
     "metadata": {},
     "output_type": "display_data"
    },
    {
     "data": {
      "text/plain": [
       "{'uid': '26', 'name': 'Lobot', 'url': 'https://www.swapi.tech/api/people/26'}"
      ]
     },
     "metadata": {},
     "output_type": "display_data"
    },
    {
     "data": {
      "text/plain": [
       "{'uid': '27', 'name': 'Ackbar', 'url': 'https://www.swapi.tech/api/people/27'}"
      ]
     },
     "metadata": {},
     "output_type": "display_data"
    },
    {
     "data": {
      "text/plain": [
       "{'uid': '28',\n",
       " 'name': 'Mon Mothma',\n",
       " 'url': 'https://www.swapi.tech/api/people/28'}"
      ]
     },
     "metadata": {},
     "output_type": "display_data"
    },
    {
     "data": {
      "text/plain": [
       "{'uid': '29',\n",
       " 'name': 'Arvel Crynyd',\n",
       " 'url': 'https://www.swapi.tech/api/people/29'}"
      ]
     },
     "metadata": {},
     "output_type": "display_data"
    },
    {
     "data": {
      "text/plain": [
       "{'uid': '30',\n",
       " 'name': 'Wicket Systri Warrick',\n",
       " 'url': 'https://www.swapi.tech/api/people/30'}"
      ]
     },
     "metadata": {},
     "output_type": "display_data"
    },
    {
     "data": {
      "text/plain": [
       "{'uid': '31',\n",
       " 'name': 'Nien Nunb',\n",
       " 'url': 'https://www.swapi.tech/api/people/31'}"
      ]
     },
     "metadata": {},
     "output_type": "display_data"
    },
    {
     "data": {
      "text/plain": [
       "{'uid': '32',\n",
       " 'name': 'Qui-Gon Jinn',\n",
       " 'url': 'https://www.swapi.tech/api/people/32'}"
      ]
     },
     "metadata": {},
     "output_type": "display_data"
    },
    {
     "data": {
      "text/plain": [
       "{'uid': '33',\n",
       " 'name': 'Nute Gunray',\n",
       " 'url': 'https://www.swapi.tech/api/people/33'}"
      ]
     },
     "metadata": {},
     "output_type": "display_data"
    },
    {
     "data": {
      "text/plain": [
       "{'uid': '34',\n",
       " 'name': 'Finis Valorum',\n",
       " 'url': 'https://www.swapi.tech/api/people/34'}"
      ]
     },
     "metadata": {},
     "output_type": "display_data"
    },
    {
     "data": {
      "text/plain": [
       "{'uid': '35',\n",
       " 'name': 'Padmé Amidala',\n",
       " 'url': 'https://www.swapi.tech/api/people/35'}"
      ]
     },
     "metadata": {},
     "output_type": "display_data"
    },
    {
     "data": {
      "text/plain": [
       "{'uid': '36',\n",
       " 'name': 'Jar Jar Binks',\n",
       " 'url': 'https://www.swapi.tech/api/people/36'}"
      ]
     },
     "metadata": {},
     "output_type": "display_data"
    },
    {
     "data": {
      "text/plain": [
       "{'uid': '37',\n",
       " 'name': 'Roos Tarpals',\n",
       " 'url': 'https://www.swapi.tech/api/people/37'}"
      ]
     },
     "metadata": {},
     "output_type": "display_data"
    },
    {
     "data": {
      "text/plain": [
       "{'uid': '38',\n",
       " 'name': 'Rugor Nass',\n",
       " 'url': 'https://www.swapi.tech/api/people/38'}"
      ]
     },
     "metadata": {},
     "output_type": "display_data"
    },
    {
     "data": {
      "text/plain": [
       "{'uid': '39',\n",
       " 'name': 'Ric Olié',\n",
       " 'url': 'https://www.swapi.tech/api/people/39'}"
      ]
     },
     "metadata": {},
     "output_type": "display_data"
    },
    {
     "data": {
      "text/plain": [
       "{'uid': '40', 'name': 'Watto', 'url': 'https://www.swapi.tech/api/people/40'}"
      ]
     },
     "metadata": {},
     "output_type": "display_data"
    },
    {
     "data": {
      "text/plain": [
       "{'uid': '41', 'name': 'Sebulba', 'url': 'https://www.swapi.tech/api/people/41'}"
      ]
     },
     "metadata": {},
     "output_type": "display_data"
    },
    {
     "data": {
      "text/plain": [
       "{'uid': '42',\n",
       " 'name': 'Quarsh Panaka',\n",
       " 'url': 'https://www.swapi.tech/api/people/42'}"
      ]
     },
     "metadata": {},
     "output_type": "display_data"
    },
    {
     "data": {
      "text/plain": [
       "{'uid': '43',\n",
       " 'name': 'Shmi Skywalker',\n",
       " 'url': 'https://www.swapi.tech/api/people/43'}"
      ]
     },
     "metadata": {},
     "output_type": "display_data"
    },
    {
     "data": {
      "text/plain": [
       "{'uid': '44',\n",
       " 'name': 'Darth Maul',\n",
       " 'url': 'https://www.swapi.tech/api/people/44'}"
      ]
     },
     "metadata": {},
     "output_type": "display_data"
    },
    {
     "data": {
      "text/plain": [
       "{'uid': '45',\n",
       " 'name': 'Bib Fortuna',\n",
       " 'url': 'https://www.swapi.tech/api/people/45'}"
      ]
     },
     "metadata": {},
     "output_type": "display_data"
    },
    {
     "data": {
      "text/plain": [
       "{'uid': '46',\n",
       " 'name': 'Ayla Secura',\n",
       " 'url': 'https://www.swapi.tech/api/people/46'}"
      ]
     },
     "metadata": {},
     "output_type": "display_data"
    },
    {
     "data": {
      "text/plain": [
       "{'uid': '47',\n",
       " 'name': 'Ratts Tyerel',\n",
       " 'url': 'https://www.swapi.tech/api/people/47'}"
      ]
     },
     "metadata": {},
     "output_type": "display_data"
    },
    {
     "data": {
      "text/plain": [
       "{'uid': '48',\n",
       " 'name': 'Dud Bolt',\n",
       " 'url': 'https://www.swapi.tech/api/people/48'}"
      ]
     },
     "metadata": {},
     "output_type": "display_data"
    },
    {
     "data": {
      "text/plain": [
       "{'uid': '49', 'name': 'Gasgano', 'url': 'https://www.swapi.tech/api/people/49'}"
      ]
     },
     "metadata": {},
     "output_type": "display_data"
    },
    {
     "data": {
      "text/plain": [
       "{'uid': '50',\n",
       " 'name': 'Ben Quadinaros',\n",
       " 'url': 'https://www.swapi.tech/api/people/50'}"
      ]
     },
     "metadata": {},
     "output_type": "display_data"
    },
    {
     "data": {
      "text/plain": [
       "{'uid': '51',\n",
       " 'name': 'Mace Windu',\n",
       " 'url': 'https://www.swapi.tech/api/people/51'}"
      ]
     },
     "metadata": {},
     "output_type": "display_data"
    },
    {
     "data": {
      "text/plain": [
       "{'uid': '52',\n",
       " 'name': 'Ki-Adi-Mundi',\n",
       " 'url': 'https://www.swapi.tech/api/people/52'}"
      ]
     },
     "metadata": {},
     "output_type": "display_data"
    },
    {
     "data": {
      "text/plain": [
       "{'uid': '53',\n",
       " 'name': 'Kit Fisto',\n",
       " 'url': 'https://www.swapi.tech/api/people/53'}"
      ]
     },
     "metadata": {},
     "output_type": "display_data"
    },
    {
     "data": {
      "text/plain": [
       "{'uid': '54',\n",
       " 'name': 'Eeth Koth',\n",
       " 'url': 'https://www.swapi.tech/api/people/54'}"
      ]
     },
     "metadata": {},
     "output_type": "display_data"
    },
    {
     "data": {
      "text/plain": [
       "{'uid': '55',\n",
       " 'name': 'Adi Gallia',\n",
       " 'url': 'https://www.swapi.tech/api/people/55'}"
      ]
     },
     "metadata": {},
     "output_type": "display_data"
    },
    {
     "data": {
      "text/plain": [
       "{'uid': '56',\n",
       " 'name': 'Saesee Tiin',\n",
       " 'url': 'https://www.swapi.tech/api/people/56'}"
      ]
     },
     "metadata": {},
     "output_type": "display_data"
    },
    {
     "data": {
      "text/plain": [
       "{'uid': '57',\n",
       " 'name': 'Yarael Poof',\n",
       " 'url': 'https://www.swapi.tech/api/people/57'}"
      ]
     },
     "metadata": {},
     "output_type": "display_data"
    },
    {
     "data": {
      "text/plain": [
       "{'uid': '58',\n",
       " 'name': 'Plo Koon',\n",
       " 'url': 'https://www.swapi.tech/api/people/58'}"
      ]
     },
     "metadata": {},
     "output_type": "display_data"
    },
    {
     "data": {
      "text/plain": [
       "{'uid': '59',\n",
       " 'name': 'Mas Amedda',\n",
       " 'url': 'https://www.swapi.tech/api/people/59'}"
      ]
     },
     "metadata": {},
     "output_type": "display_data"
    },
    {
     "data": {
      "text/plain": [
       "{'uid': '60',\n",
       " 'name': 'Gregar Typho',\n",
       " 'url': 'https://www.swapi.tech/api/people/60'}"
      ]
     },
     "metadata": {},
     "output_type": "display_data"
    },
    {
     "data": {
      "text/plain": [
       "{'uid': '61', 'name': 'Cordé', 'url': 'https://www.swapi.tech/api/people/61'}"
      ]
     },
     "metadata": {},
     "output_type": "display_data"
    },
    {
     "data": {
      "text/plain": [
       "{'uid': '62',\n",
       " 'name': 'Cliegg Lars',\n",
       " 'url': 'https://www.swapi.tech/api/people/62'}"
      ]
     },
     "metadata": {},
     "output_type": "display_data"
    },
    {
     "data": {
      "text/plain": [
       "{'uid': '63',\n",
       " 'name': 'Poggle the Lesser',\n",
       " 'url': 'https://www.swapi.tech/api/people/63'}"
      ]
     },
     "metadata": {},
     "output_type": "display_data"
    },
    {
     "data": {
      "text/plain": [
       "{'uid': '64',\n",
       " 'name': 'Luminara Unduli',\n",
       " 'url': 'https://www.swapi.tech/api/people/64'}"
      ]
     },
     "metadata": {},
     "output_type": "display_data"
    },
    {
     "data": {
      "text/plain": [
       "{'uid': '65',\n",
       " 'name': 'Barriss Offee',\n",
       " 'url': 'https://www.swapi.tech/api/people/65'}"
      ]
     },
     "metadata": {},
     "output_type": "display_data"
    },
    {
     "data": {
      "text/plain": [
       "{'uid': '66', 'name': 'Dormé', 'url': 'https://www.swapi.tech/api/people/66'}"
      ]
     },
     "metadata": {},
     "output_type": "display_data"
    },
    {
     "data": {
      "text/plain": [
       "{'uid': '67', 'name': 'Dooku', 'url': 'https://www.swapi.tech/api/people/67'}"
      ]
     },
     "metadata": {},
     "output_type": "display_data"
    },
    {
     "data": {
      "text/plain": [
       "{'uid': '68',\n",
       " 'name': 'Bail Prestor Organa',\n",
       " 'url': 'https://www.swapi.tech/api/people/68'}"
      ]
     },
     "metadata": {},
     "output_type": "display_data"
    },
    {
     "data": {
      "text/plain": [
       "{'uid': '69',\n",
       " 'name': 'Jango Fett',\n",
       " 'url': 'https://www.swapi.tech/api/people/69'}"
      ]
     },
     "metadata": {},
     "output_type": "display_data"
    },
    {
     "data": {
      "text/plain": [
       "{'uid': '70',\n",
       " 'name': 'Zam Wesell',\n",
       " 'url': 'https://www.swapi.tech/api/people/70'}"
      ]
     },
     "metadata": {},
     "output_type": "display_data"
    },
    {
     "data": {
      "text/plain": [
       "{'uid': '71',\n",
       " 'name': 'Dexter Jettster',\n",
       " 'url': 'https://www.swapi.tech/api/people/71'}"
      ]
     },
     "metadata": {},
     "output_type": "display_data"
    },
    {
     "data": {
      "text/plain": [
       "{'uid': '72', 'name': 'Lama Su', 'url': 'https://www.swapi.tech/api/people/72'}"
      ]
     },
     "metadata": {},
     "output_type": "display_data"
    },
    {
     "data": {
      "text/plain": [
       "{'uid': '73', 'name': 'Taun We', 'url': 'https://www.swapi.tech/api/people/73'}"
      ]
     },
     "metadata": {},
     "output_type": "display_data"
    },
    {
     "data": {
      "text/plain": [
       "{'uid': '74',\n",
       " 'name': 'Jocasta Nu',\n",
       " 'url': 'https://www.swapi.tech/api/people/74'}"
      ]
     },
     "metadata": {},
     "output_type": "display_data"
    },
    {
     "data": {
      "text/plain": [
       "{'uid': '75', 'name': 'R4-P17', 'url': 'https://www.swapi.tech/api/people/75'}"
      ]
     },
     "metadata": {},
     "output_type": "display_data"
    },
    {
     "data": {
      "text/plain": [
       "{'uid': '76',\n",
       " 'name': 'Wat Tambor',\n",
       " 'url': 'https://www.swapi.tech/api/people/76'}"
      ]
     },
     "metadata": {},
     "output_type": "display_data"
    },
    {
     "data": {
      "text/plain": [
       "{'uid': '77',\n",
       " 'name': 'San Hill',\n",
       " 'url': 'https://www.swapi.tech/api/people/77'}"
      ]
     },
     "metadata": {},
     "output_type": "display_data"
    },
    {
     "data": {
      "text/plain": [
       "{'uid': '78',\n",
       " 'name': 'Shaak Ti',\n",
       " 'url': 'https://www.swapi.tech/api/people/78'}"
      ]
     },
     "metadata": {},
     "output_type": "display_data"
    },
    {
     "data": {
      "text/plain": [
       "{'uid': '79',\n",
       " 'name': 'Grievous',\n",
       " 'url': 'https://www.swapi.tech/api/people/79'}"
      ]
     },
     "metadata": {},
     "output_type": "display_data"
    },
    {
     "data": {
      "text/plain": [
       "{'uid': '80', 'name': 'Tarfful', 'url': 'https://www.swapi.tech/api/people/80'}"
      ]
     },
     "metadata": {},
     "output_type": "display_data"
    },
    {
     "data": {
      "text/plain": [
       "{'uid': '81',\n",
       " 'name': 'Raymus Antilles',\n",
       " 'url': 'https://www.swapi.tech/api/people/81'}"
      ]
     },
     "metadata": {},
     "output_type": "display_data"
    },
    {
     "data": {
      "text/plain": [
       "{'uid': '82',\n",
       " 'name': 'Sly Moore',\n",
       " 'url': 'https://www.swapi.tech/api/people/82'}"
      ]
     },
     "metadata": {},
     "output_type": "display_data"
    },
    {
     "data": {
      "text/plain": [
       "{'uid': '83',\n",
       " 'name': 'Tion Medon',\n",
       " 'url': 'https://www.swapi.tech/api/people/83'}"
      ]
     },
     "metadata": {},
     "output_type": "display_data"
    }
   ],
   "source": [
    "import requests\n",
    "\n",
    "next_page = \"https://swapi.tech/api/people/\"\n",
    "all_results = []\n",
    "\n",
    "while next_page:\n",
    "    response = requests.get(next_page)\n",
    "    if response.status_code == 200:\n",
    "        data = response.json()\n",
    "\n",
    "        all_results.extend(data['results'])\n",
    "\n",
    "        next_page = data['next']\n",
    "    else:\n",
    "        print(\"Erreur\")\n",
    "        break\n",
    "\n",
    "for result in all_results:\n",
    "    display(result)"
   ]
  },
  {
   "cell_type": "code",
   "execution_count": 4,
   "id": "ad916eaf",
   "metadata": {
    "hidden": true
   },
   "outputs": [
    {
     "data": {
      "text/html": [
       "<div>\n",
       "<style scoped>\n",
       "    .dataframe tbody tr th:only-of-type {\n",
       "        vertical-align: middle;\n",
       "    }\n",
       "\n",
       "    .dataframe tbody tr th {\n",
       "        vertical-align: top;\n",
       "    }\n",
       "\n",
       "    .dataframe thead th {\n",
       "        text-align: right;\n",
       "    }\n",
       "</style>\n",
       "<table border=\"1\" class=\"dataframe\">\n",
       "  <thead>\n",
       "    <tr style=\"text-align: right;\">\n",
       "      <th></th>\n",
       "      <th>uid</th>\n",
       "      <th>name</th>\n",
       "      <th>url</th>\n",
       "    </tr>\n",
       "  </thead>\n",
       "  <tbody>\n",
       "    <tr>\n",
       "      <th>0</th>\n",
       "      <td>1</td>\n",
       "      <td>Luke Skywalker</td>\n",
       "      <td>https://www.swapi.tech/api/people/1</td>\n",
       "    </tr>\n",
       "    <tr>\n",
       "      <th>1</th>\n",
       "      <td>2</td>\n",
       "      <td>C-3PO</td>\n",
       "      <td>https://www.swapi.tech/api/people/2</td>\n",
       "    </tr>\n",
       "    <tr>\n",
       "      <th>2</th>\n",
       "      <td>3</td>\n",
       "      <td>R2-D2</td>\n",
       "      <td>https://www.swapi.tech/api/people/3</td>\n",
       "    </tr>\n",
       "    <tr>\n",
       "      <th>3</th>\n",
       "      <td>4</td>\n",
       "      <td>Darth Vader</td>\n",
       "      <td>https://www.swapi.tech/api/people/4</td>\n",
       "    </tr>\n",
       "    <tr>\n",
       "      <th>4</th>\n",
       "      <td>5</td>\n",
       "      <td>Leia Organa</td>\n",
       "      <td>https://www.swapi.tech/api/people/5</td>\n",
       "    </tr>\n",
       "    <tr>\n",
       "      <th>...</th>\n",
       "      <td>...</td>\n",
       "      <td>...</td>\n",
       "      <td>...</td>\n",
       "    </tr>\n",
       "    <tr>\n",
       "      <th>77</th>\n",
       "      <td>79</td>\n",
       "      <td>Grievous</td>\n",
       "      <td>https://www.swapi.tech/api/people/79</td>\n",
       "    </tr>\n",
       "    <tr>\n",
       "      <th>78</th>\n",
       "      <td>80</td>\n",
       "      <td>Tarfful</td>\n",
       "      <td>https://www.swapi.tech/api/people/80</td>\n",
       "    </tr>\n",
       "    <tr>\n",
       "      <th>79</th>\n",
       "      <td>81</td>\n",
       "      <td>Raymus Antilles</td>\n",
       "      <td>https://www.swapi.tech/api/people/81</td>\n",
       "    </tr>\n",
       "    <tr>\n",
       "      <th>80</th>\n",
       "      <td>82</td>\n",
       "      <td>Sly Moore</td>\n",
       "      <td>https://www.swapi.tech/api/people/82</td>\n",
       "    </tr>\n",
       "    <tr>\n",
       "      <th>81</th>\n",
       "      <td>83</td>\n",
       "      <td>Tion Medon</td>\n",
       "      <td>https://www.swapi.tech/api/people/83</td>\n",
       "    </tr>\n",
       "  </tbody>\n",
       "</table>\n",
       "<p>82 rows × 3 columns</p>\n",
       "</div>"
      ],
      "text/plain": [
       "   uid             name                                   url\n",
       "0    1   Luke Skywalker   https://www.swapi.tech/api/people/1\n",
       "1    2            C-3PO   https://www.swapi.tech/api/people/2\n",
       "2    3            R2-D2   https://www.swapi.tech/api/people/3\n",
       "3    4      Darth Vader   https://www.swapi.tech/api/people/4\n",
       "4    5      Leia Organa   https://www.swapi.tech/api/people/5\n",
       "..  ..              ...                                   ...\n",
       "77  79         Grievous  https://www.swapi.tech/api/people/79\n",
       "78  80          Tarfful  https://www.swapi.tech/api/people/80\n",
       "79  81  Raymus Antilles  https://www.swapi.tech/api/people/81\n",
       "80  82        Sly Moore  https://www.swapi.tech/api/people/82\n",
       "81  83       Tion Medon  https://www.swapi.tech/api/people/83\n",
       "\n",
       "[82 rows x 3 columns]"
      ]
     },
     "metadata": {},
     "output_type": "display_data"
    }
   ],
   "source": [
    "import requests\n",
    "import pandas as pd\n",
    "\n",
    "next_page = \"https://swapi.tech/api/people/\"\n",
    "all_results = []\n",
    "\n",
    "while next_page:\n",
    "    response = requests.get(next_page)\n",
    "    if response.status_code == 200:\n",
    "        data = response.json()\n",
    "\n",
    "        all_results.extend(data['results'])\n",
    "\n",
    "        next_page = data['next']\n",
    "    else:\n",
    "        print(\"Erreur\")\n",
    "        break\n",
    "\n",
    "df = pd.DataFrame(all_results)\n",
    "\n",
    "display(df)"
   ]
  },
  {
   "cell_type": "code",
   "execution_count": 5,
   "id": "049a6ea0",
   "metadata": {
    "hidden": true,
    "scrolled": true
   },
   "outputs": [
    {
     "data": {
      "text/plain": [
       "{'message': 'ok',\n",
       " 'result': {'properties': {'classification': 'mammal',\n",
       "   'designation': 'sentient',\n",
       "   'average_height': '180',\n",
       "   'average_lifespan': '120',\n",
       "   'hair_colors': 'blonde, brown, black, red',\n",
       "   'skin_colors': 'caucasian, black, asian, hispanic',\n",
       "   'eye_colors': 'brown, blue, green, hazel, grey, amber',\n",
       "   'homeworld': 'https://www.swapi.tech/api/planets/1',\n",
       "   'language': 'Galactic Basic',\n",
       "   'people': ['https://www.swapi.tech/api/people/66',\n",
       "    'https://www.swapi.tech/api/people/67',\n",
       "    'https://www.swapi.tech/api/people/68',\n",
       "    'https://www.swapi.tech/api/people/74'],\n",
       "   'created': '2024-03-07T07:07:15.117Z',\n",
       "   'edited': '2024-03-07T07:07:15.117Z',\n",
       "   'name': 'Human',\n",
       "   'url': 'https://www.swapi.tech/api/species/1'},\n",
       "  'description': 'A sepcies within the Star Wars universe',\n",
       "  '_id': '5f63a135cf50d100047f9768',\n",
       "  'uid': '1',\n",
       "  '__v': 0}}"
      ]
     },
     "metadata": {},
     "output_type": "display_data"
    }
   ],
   "source": [
    "import requests\n",
    "\n",
    "url = \"https://swapi.tech/api/species/1/\"\n",
    "response = requests.get(url)\n",
    "species = response.json()\n",
    "\n",
    "display(species)"
   ]
  },
  {
   "cell_type": "code",
   "execution_count": 6,
   "id": "c4e882eb",
   "metadata": {
    "hidden": true,
    "scrolled": true
   },
   "outputs": [
    {
     "data": {
      "text/html": [
       "<div>\n",
       "<style scoped>\n",
       "    .dataframe tbody tr th:only-of-type {\n",
       "        vertical-align: middle;\n",
       "    }\n",
       "\n",
       "    .dataframe tbody tr th {\n",
       "        vertical-align: top;\n",
       "    }\n",
       "\n",
       "    .dataframe thead th {\n",
       "        text-align: right;\n",
       "    }\n",
       "</style>\n",
       "<table border=\"1\" class=\"dataframe\">\n",
       "  <thead>\n",
       "    <tr style=\"text-align: right;\">\n",
       "      <th></th>\n",
       "      <th>uid</th>\n",
       "      <th>name</th>\n",
       "      <th>url</th>\n",
       "    </tr>\n",
       "  </thead>\n",
       "  <tbody>\n",
       "    <tr>\n",
       "      <th>0</th>\n",
       "      <td>1</td>\n",
       "      <td>Human</td>\n",
       "      <td>https://www.swapi.tech/api/species/1</td>\n",
       "    </tr>\n",
       "    <tr>\n",
       "      <th>1</th>\n",
       "      <td>2</td>\n",
       "      <td>Droid</td>\n",
       "      <td>https://www.swapi.tech/api/species/2</td>\n",
       "    </tr>\n",
       "    <tr>\n",
       "      <th>2</th>\n",
       "      <td>3</td>\n",
       "      <td>Wookie</td>\n",
       "      <td>https://www.swapi.tech/api/species/3</td>\n",
       "    </tr>\n",
       "    <tr>\n",
       "      <th>3</th>\n",
       "      <td>4</td>\n",
       "      <td>Rodian</td>\n",
       "      <td>https://www.swapi.tech/api/species/4</td>\n",
       "    </tr>\n",
       "    <tr>\n",
       "      <th>4</th>\n",
       "      <td>5</td>\n",
       "      <td>Hutt</td>\n",
       "      <td>https://www.swapi.tech/api/species/5</td>\n",
       "    </tr>\n",
       "    <tr>\n",
       "      <th>5</th>\n",
       "      <td>6</td>\n",
       "      <td>Yoda's species</td>\n",
       "      <td>https://www.swapi.tech/api/species/6</td>\n",
       "    </tr>\n",
       "    <tr>\n",
       "      <th>6</th>\n",
       "      <td>7</td>\n",
       "      <td>Trandoshan</td>\n",
       "      <td>https://www.swapi.tech/api/species/7</td>\n",
       "    </tr>\n",
       "    <tr>\n",
       "      <th>7</th>\n",
       "      <td>8</td>\n",
       "      <td>Mon Calamari</td>\n",
       "      <td>https://www.swapi.tech/api/species/8</td>\n",
       "    </tr>\n",
       "    <tr>\n",
       "      <th>8</th>\n",
       "      <td>9</td>\n",
       "      <td>Ewok</td>\n",
       "      <td>https://www.swapi.tech/api/species/9</td>\n",
       "    </tr>\n",
       "    <tr>\n",
       "      <th>9</th>\n",
       "      <td>10</td>\n",
       "      <td>Sullustan</td>\n",
       "      <td>https://www.swapi.tech/api/species/10</td>\n",
       "    </tr>\n",
       "  </tbody>\n",
       "</table>\n",
       "</div>"
      ],
      "text/plain": [
       "  uid            name                                    url\n",
       "0   1           Human   https://www.swapi.tech/api/species/1\n",
       "1   2           Droid   https://www.swapi.tech/api/species/2\n",
       "2   3          Wookie   https://www.swapi.tech/api/species/3\n",
       "3   4          Rodian   https://www.swapi.tech/api/species/4\n",
       "4   5            Hutt   https://www.swapi.tech/api/species/5\n",
       "5   6  Yoda's species   https://www.swapi.tech/api/species/6\n",
       "6   7      Trandoshan   https://www.swapi.tech/api/species/7\n",
       "7   8    Mon Calamari   https://www.swapi.tech/api/species/8\n",
       "8   9            Ewok   https://www.swapi.tech/api/species/9\n",
       "9  10       Sullustan  https://www.swapi.tech/api/species/10"
      ]
     },
     "metadata": {},
     "output_type": "display_data"
    }
   ],
   "source": [
    "import requests\n",
    "import pandas as pd\n",
    "\n",
    "response = requests.get(\"https://swapi.tech/api/species/\")\n",
    "\n",
    "if response.status_code == 200:\n",
    "    data = response.json()\n",
    "    df = pd.DataFrame(data['results'])\n",
    "\n",
    "    display (df)\n",
    "else:\n",
    "    print(\"Erreur\")"
   ]
  },
  {
   "cell_type": "code",
   "execution_count": 7,
   "id": "9f8e1462",
   "metadata": {
    "hidden": true,
    "scrolled": true
   },
   "outputs": [
    {
     "data": {
      "text/html": [
       "<div>\n",
       "<style scoped>\n",
       "    .dataframe tbody tr th:only-of-type {\n",
       "        vertical-align: middle;\n",
       "    }\n",
       "\n",
       "    .dataframe tbody tr th {\n",
       "        vertical-align: top;\n",
       "    }\n",
       "\n",
       "    .dataframe thead th {\n",
       "        text-align: right;\n",
       "    }\n",
       "</style>\n",
       "<table border=\"1\" class=\"dataframe\">\n",
       "  <thead>\n",
       "    <tr style=\"text-align: right;\">\n",
       "      <th></th>\n",
       "      <th>uid</th>\n",
       "      <th>name</th>\n",
       "      <th>url</th>\n",
       "    </tr>\n",
       "  </thead>\n",
       "  <tbody>\n",
       "    <tr>\n",
       "      <th>0</th>\n",
       "      <td>1</td>\n",
       "      <td>Human</td>\n",
       "      <td>https://www.swapi.tech/api/species/1</td>\n",
       "    </tr>\n",
       "    <tr>\n",
       "      <th>1</th>\n",
       "      <td>2</td>\n",
       "      <td>Droid</td>\n",
       "      <td>https://www.swapi.tech/api/species/2</td>\n",
       "    </tr>\n",
       "    <tr>\n",
       "      <th>2</th>\n",
       "      <td>3</td>\n",
       "      <td>Wookie</td>\n",
       "      <td>https://www.swapi.tech/api/species/3</td>\n",
       "    </tr>\n",
       "    <tr>\n",
       "      <th>3</th>\n",
       "      <td>4</td>\n",
       "      <td>Rodian</td>\n",
       "      <td>https://www.swapi.tech/api/species/4</td>\n",
       "    </tr>\n",
       "    <tr>\n",
       "      <th>4</th>\n",
       "      <td>5</td>\n",
       "      <td>Hutt</td>\n",
       "      <td>https://www.swapi.tech/api/species/5</td>\n",
       "    </tr>\n",
       "    <tr>\n",
       "      <th>5</th>\n",
       "      <td>6</td>\n",
       "      <td>Yoda's species</td>\n",
       "      <td>https://www.swapi.tech/api/species/6</td>\n",
       "    </tr>\n",
       "    <tr>\n",
       "      <th>6</th>\n",
       "      <td>7</td>\n",
       "      <td>Trandoshan</td>\n",
       "      <td>https://www.swapi.tech/api/species/7</td>\n",
       "    </tr>\n",
       "    <tr>\n",
       "      <th>7</th>\n",
       "      <td>8</td>\n",
       "      <td>Mon Calamari</td>\n",
       "      <td>https://www.swapi.tech/api/species/8</td>\n",
       "    </tr>\n",
       "    <tr>\n",
       "      <th>8</th>\n",
       "      <td>9</td>\n",
       "      <td>Ewok</td>\n",
       "      <td>https://www.swapi.tech/api/species/9</td>\n",
       "    </tr>\n",
       "    <tr>\n",
       "      <th>9</th>\n",
       "      <td>10</td>\n",
       "      <td>Sullustan</td>\n",
       "      <td>https://www.swapi.tech/api/species/10</td>\n",
       "    </tr>\n",
       "    <tr>\n",
       "      <th>10</th>\n",
       "      <td>11</td>\n",
       "      <td>Neimodian</td>\n",
       "      <td>https://www.swapi.tech/api/species/11</td>\n",
       "    </tr>\n",
       "    <tr>\n",
       "      <th>11</th>\n",
       "      <td>12</td>\n",
       "      <td>Gungan</td>\n",
       "      <td>https://www.swapi.tech/api/species/12</td>\n",
       "    </tr>\n",
       "    <tr>\n",
       "      <th>12</th>\n",
       "      <td>13</td>\n",
       "      <td>Toydarian</td>\n",
       "      <td>https://www.swapi.tech/api/species/13</td>\n",
       "    </tr>\n",
       "    <tr>\n",
       "      <th>13</th>\n",
       "      <td>14</td>\n",
       "      <td>Dug</td>\n",
       "      <td>https://www.swapi.tech/api/species/14</td>\n",
       "    </tr>\n",
       "    <tr>\n",
       "      <th>14</th>\n",
       "      <td>15</td>\n",
       "      <td>Twi'lek</td>\n",
       "      <td>https://www.swapi.tech/api/species/15</td>\n",
       "    </tr>\n",
       "    <tr>\n",
       "      <th>15</th>\n",
       "      <td>16</td>\n",
       "      <td>Aleena</td>\n",
       "      <td>https://www.swapi.tech/api/species/16</td>\n",
       "    </tr>\n",
       "    <tr>\n",
       "      <th>16</th>\n",
       "      <td>17</td>\n",
       "      <td>Vulptereen</td>\n",
       "      <td>https://www.swapi.tech/api/species/17</td>\n",
       "    </tr>\n",
       "    <tr>\n",
       "      <th>17</th>\n",
       "      <td>18</td>\n",
       "      <td>Xexto</td>\n",
       "      <td>https://www.swapi.tech/api/species/18</td>\n",
       "    </tr>\n",
       "    <tr>\n",
       "      <th>18</th>\n",
       "      <td>19</td>\n",
       "      <td>Toong</td>\n",
       "      <td>https://www.swapi.tech/api/species/19</td>\n",
       "    </tr>\n",
       "    <tr>\n",
       "      <th>19</th>\n",
       "      <td>20</td>\n",
       "      <td>Cerean</td>\n",
       "      <td>https://www.swapi.tech/api/species/20</td>\n",
       "    </tr>\n",
       "    <tr>\n",
       "      <th>20</th>\n",
       "      <td>21</td>\n",
       "      <td>Nautolan</td>\n",
       "      <td>https://www.swapi.tech/api/species/21</td>\n",
       "    </tr>\n",
       "    <tr>\n",
       "      <th>21</th>\n",
       "      <td>22</td>\n",
       "      <td>Zabrak</td>\n",
       "      <td>https://www.swapi.tech/api/species/22</td>\n",
       "    </tr>\n",
       "    <tr>\n",
       "      <th>22</th>\n",
       "      <td>23</td>\n",
       "      <td>Tholothian</td>\n",
       "      <td>https://www.swapi.tech/api/species/23</td>\n",
       "    </tr>\n",
       "    <tr>\n",
       "      <th>23</th>\n",
       "      <td>24</td>\n",
       "      <td>Iktotchi</td>\n",
       "      <td>https://www.swapi.tech/api/species/24</td>\n",
       "    </tr>\n",
       "    <tr>\n",
       "      <th>24</th>\n",
       "      <td>25</td>\n",
       "      <td>Quermian</td>\n",
       "      <td>https://www.swapi.tech/api/species/25</td>\n",
       "    </tr>\n",
       "    <tr>\n",
       "      <th>25</th>\n",
       "      <td>26</td>\n",
       "      <td>Kel Dor</td>\n",
       "      <td>https://www.swapi.tech/api/species/26</td>\n",
       "    </tr>\n",
       "    <tr>\n",
       "      <th>26</th>\n",
       "      <td>27</td>\n",
       "      <td>Chagrian</td>\n",
       "      <td>https://www.swapi.tech/api/species/27</td>\n",
       "    </tr>\n",
       "    <tr>\n",
       "      <th>27</th>\n",
       "      <td>28</td>\n",
       "      <td>Geonosian</td>\n",
       "      <td>https://www.swapi.tech/api/species/28</td>\n",
       "    </tr>\n",
       "    <tr>\n",
       "      <th>28</th>\n",
       "      <td>29</td>\n",
       "      <td>Mirialan</td>\n",
       "      <td>https://www.swapi.tech/api/species/29</td>\n",
       "    </tr>\n",
       "    <tr>\n",
       "      <th>29</th>\n",
       "      <td>30</td>\n",
       "      <td>Clawdite</td>\n",
       "      <td>https://www.swapi.tech/api/species/30</td>\n",
       "    </tr>\n",
       "    <tr>\n",
       "      <th>30</th>\n",
       "      <td>31</td>\n",
       "      <td>Besalisk</td>\n",
       "      <td>https://www.swapi.tech/api/species/31</td>\n",
       "    </tr>\n",
       "    <tr>\n",
       "      <th>31</th>\n",
       "      <td>32</td>\n",
       "      <td>Kaminoan</td>\n",
       "      <td>https://www.swapi.tech/api/species/32</td>\n",
       "    </tr>\n",
       "    <tr>\n",
       "      <th>32</th>\n",
       "      <td>33</td>\n",
       "      <td>Skakoan</td>\n",
       "      <td>https://www.swapi.tech/api/species/33</td>\n",
       "    </tr>\n",
       "    <tr>\n",
       "      <th>33</th>\n",
       "      <td>34</td>\n",
       "      <td>Muun</td>\n",
       "      <td>https://www.swapi.tech/api/species/34</td>\n",
       "    </tr>\n",
       "    <tr>\n",
       "      <th>34</th>\n",
       "      <td>35</td>\n",
       "      <td>Togruta</td>\n",
       "      <td>https://www.swapi.tech/api/species/35</td>\n",
       "    </tr>\n",
       "    <tr>\n",
       "      <th>35</th>\n",
       "      <td>36</td>\n",
       "      <td>Kaleesh</td>\n",
       "      <td>https://www.swapi.tech/api/species/36</td>\n",
       "    </tr>\n",
       "    <tr>\n",
       "      <th>36</th>\n",
       "      <td>37</td>\n",
       "      <td>Pau'an</td>\n",
       "      <td>https://www.swapi.tech/api/species/37</td>\n",
       "    </tr>\n",
       "  </tbody>\n",
       "</table>\n",
       "</div>"
      ],
      "text/plain": [
       "   uid            name                                    url\n",
       "0    1           Human   https://www.swapi.tech/api/species/1\n",
       "1    2           Droid   https://www.swapi.tech/api/species/2\n",
       "2    3          Wookie   https://www.swapi.tech/api/species/3\n",
       "3    4          Rodian   https://www.swapi.tech/api/species/4\n",
       "4    5            Hutt   https://www.swapi.tech/api/species/5\n",
       "5    6  Yoda's species   https://www.swapi.tech/api/species/6\n",
       "6    7      Trandoshan   https://www.swapi.tech/api/species/7\n",
       "7    8    Mon Calamari   https://www.swapi.tech/api/species/8\n",
       "8    9            Ewok   https://www.swapi.tech/api/species/9\n",
       "9   10       Sullustan  https://www.swapi.tech/api/species/10\n",
       "10  11       Neimodian  https://www.swapi.tech/api/species/11\n",
       "11  12          Gungan  https://www.swapi.tech/api/species/12\n",
       "12  13       Toydarian  https://www.swapi.tech/api/species/13\n",
       "13  14             Dug  https://www.swapi.tech/api/species/14\n",
       "14  15         Twi'lek  https://www.swapi.tech/api/species/15\n",
       "15  16          Aleena  https://www.swapi.tech/api/species/16\n",
       "16  17      Vulptereen  https://www.swapi.tech/api/species/17\n",
       "17  18           Xexto  https://www.swapi.tech/api/species/18\n",
       "18  19           Toong  https://www.swapi.tech/api/species/19\n",
       "19  20          Cerean  https://www.swapi.tech/api/species/20\n",
       "20  21        Nautolan  https://www.swapi.tech/api/species/21\n",
       "21  22          Zabrak  https://www.swapi.tech/api/species/22\n",
       "22  23      Tholothian  https://www.swapi.tech/api/species/23\n",
       "23  24        Iktotchi  https://www.swapi.tech/api/species/24\n",
       "24  25        Quermian  https://www.swapi.tech/api/species/25\n",
       "25  26         Kel Dor  https://www.swapi.tech/api/species/26\n",
       "26  27        Chagrian  https://www.swapi.tech/api/species/27\n",
       "27  28       Geonosian  https://www.swapi.tech/api/species/28\n",
       "28  29        Mirialan  https://www.swapi.tech/api/species/29\n",
       "29  30        Clawdite  https://www.swapi.tech/api/species/30\n",
       "30  31        Besalisk  https://www.swapi.tech/api/species/31\n",
       "31  32        Kaminoan  https://www.swapi.tech/api/species/32\n",
       "32  33         Skakoan  https://www.swapi.tech/api/species/33\n",
       "33  34            Muun  https://www.swapi.tech/api/species/34\n",
       "34  35         Togruta  https://www.swapi.tech/api/species/35\n",
       "35  36         Kaleesh  https://www.swapi.tech/api/species/36\n",
       "36  37          Pau'an  https://www.swapi.tech/api/species/37"
      ]
     },
     "metadata": {},
     "output_type": "display_data"
    }
   ],
   "source": [
    "import requests\n",
    "import pandas as pd\n",
    "\n",
    "next_page = \"https://swapi.tech/api/species/\"\n",
    "all_results = []\n",
    "\n",
    "while next_page:\n",
    "    response = requests.get(next_page)\n",
    "    if response.status_code == 200:\n",
    "        data = response.json()\n",
    "\n",
    "        all_results.extend(data['results'])\n",
    "\n",
    "        next_page = data['next']\n",
    "    else:\n",
    "        print(\"Erreur\")\n",
    "        break\n",
    "\n",
    "df = pd.DataFrame(all_results)\n",
    "\n",
    "display(df)"
   ]
  },
  {
   "cell_type": "markdown",
   "id": "146132ad",
   "metadata": {
    "heading_collapsed": true
   },
   "source": [
    "# Factorisation characters"
   ]
  },
  {
   "cell_type": "markdown",
   "id": "3bff3adf",
   "metadata": {
    "hidden": true
   },
   "source": [
    "Recupère un seul character"
   ]
  },
  {
   "cell_type": "code",
   "execution_count": 8,
   "id": "05764f5e",
   "metadata": {
    "hidden": true
   },
   "outputs": [
    {
     "data": {
      "text/plain": [
       "{'message': 'ok',\n",
       " 'result': {'properties': {'height': '172',\n",
       "   'mass': '77',\n",
       "   'hair_color': 'blond',\n",
       "   'skin_color': 'fair',\n",
       "   'eye_color': 'blue',\n",
       "   'birth_year': '19BBY',\n",
       "   'gender': 'male',\n",
       "   'created': '2024-03-07T07:07:15.111Z',\n",
       "   'edited': '2024-03-07T07:07:15.111Z',\n",
       "   'name': 'Luke Skywalker',\n",
       "   'homeworld': 'https://www.swapi.tech/api/planets/1',\n",
       "   'url': 'https://www.swapi.tech/api/people/1'},\n",
       "  'description': 'A person within the Star Wars universe',\n",
       "  '_id': '5f63a36eee9fd7000499be42',\n",
       "  'uid': '1',\n",
       "  '__v': 0}}"
      ]
     },
     "metadata": {},
     "output_type": "display_data"
    }
   ],
   "source": [
    "import requests\n",
    "\n",
    "def swapi_character_data(character_id):\n",
    "    url = f\"https://swapi.tech/api/people/{character_id}/\"\n",
    "    response = requests.get(url)\n",
    "    if response.status_code == 200:\n",
    "        return response.json()\n",
    "    else:\n",
    "        print(\"Erreur lors de la récupération des données.\")\n",
    "        return None\n",
    "\n",
    "character_id = 1\n",
    "character_data = swapi_character_data(character_id)\n",
    "if character_data is not None:\n",
    "    display(character_data)"
   ]
  },
  {
   "cell_type": "markdown",
   "id": "9900512a",
   "metadata": {
    "hidden": true
   },
   "source": [
    "Récupère dix charcaters"
   ]
  },
  {
   "cell_type": "code",
   "execution_count": 9,
   "id": "751d39d6",
   "metadata": {
    "hidden": true,
    "scrolled": true
   },
   "outputs": [
    {
     "data": {
      "text/html": [
       "<div>\n",
       "<style scoped>\n",
       "    .dataframe tbody tr th:only-of-type {\n",
       "        vertical-align: middle;\n",
       "    }\n",
       "\n",
       "    .dataframe tbody tr th {\n",
       "        vertical-align: top;\n",
       "    }\n",
       "\n",
       "    .dataframe thead th {\n",
       "        text-align: right;\n",
       "    }\n",
       "</style>\n",
       "<table border=\"1\" class=\"dataframe\">\n",
       "  <thead>\n",
       "    <tr style=\"text-align: right;\">\n",
       "      <th></th>\n",
       "      <th>uid</th>\n",
       "      <th>name</th>\n",
       "      <th>url</th>\n",
       "    </tr>\n",
       "  </thead>\n",
       "  <tbody>\n",
       "    <tr>\n",
       "      <th>0</th>\n",
       "      <td>1</td>\n",
       "      <td>Luke Skywalker</td>\n",
       "      <td>https://www.swapi.tech/api/people/1</td>\n",
       "    </tr>\n",
       "    <tr>\n",
       "      <th>1</th>\n",
       "      <td>2</td>\n",
       "      <td>C-3PO</td>\n",
       "      <td>https://www.swapi.tech/api/people/2</td>\n",
       "    </tr>\n",
       "    <tr>\n",
       "      <th>2</th>\n",
       "      <td>3</td>\n",
       "      <td>R2-D2</td>\n",
       "      <td>https://www.swapi.tech/api/people/3</td>\n",
       "    </tr>\n",
       "    <tr>\n",
       "      <th>3</th>\n",
       "      <td>4</td>\n",
       "      <td>Darth Vader</td>\n",
       "      <td>https://www.swapi.tech/api/people/4</td>\n",
       "    </tr>\n",
       "    <tr>\n",
       "      <th>4</th>\n",
       "      <td>5</td>\n",
       "      <td>Leia Organa</td>\n",
       "      <td>https://www.swapi.tech/api/people/5</td>\n",
       "    </tr>\n",
       "    <tr>\n",
       "      <th>5</th>\n",
       "      <td>6</td>\n",
       "      <td>Owen Lars</td>\n",
       "      <td>https://www.swapi.tech/api/people/6</td>\n",
       "    </tr>\n",
       "    <tr>\n",
       "      <th>6</th>\n",
       "      <td>7</td>\n",
       "      <td>Beru Whitesun lars</td>\n",
       "      <td>https://www.swapi.tech/api/people/7</td>\n",
       "    </tr>\n",
       "    <tr>\n",
       "      <th>7</th>\n",
       "      <td>8</td>\n",
       "      <td>R5-D4</td>\n",
       "      <td>https://www.swapi.tech/api/people/8</td>\n",
       "    </tr>\n",
       "    <tr>\n",
       "      <th>8</th>\n",
       "      <td>9</td>\n",
       "      <td>Biggs Darklighter</td>\n",
       "      <td>https://www.swapi.tech/api/people/9</td>\n",
       "    </tr>\n",
       "    <tr>\n",
       "      <th>9</th>\n",
       "      <td>10</td>\n",
       "      <td>Obi-Wan Kenobi</td>\n",
       "      <td>https://www.swapi.tech/api/people/10</td>\n",
       "    </tr>\n",
       "  </tbody>\n",
       "</table>\n",
       "</div>"
      ],
      "text/plain": [
       "  uid                name                                   url\n",
       "0   1      Luke Skywalker   https://www.swapi.tech/api/people/1\n",
       "1   2               C-3PO   https://www.swapi.tech/api/people/2\n",
       "2   3               R2-D2   https://www.swapi.tech/api/people/3\n",
       "3   4         Darth Vader   https://www.swapi.tech/api/people/4\n",
       "4   5         Leia Organa   https://www.swapi.tech/api/people/5\n",
       "5   6           Owen Lars   https://www.swapi.tech/api/people/6\n",
       "6   7  Beru Whitesun lars   https://www.swapi.tech/api/people/7\n",
       "7   8               R5-D4   https://www.swapi.tech/api/people/8\n",
       "8   9   Biggs Darklighter   https://www.swapi.tech/api/people/9\n",
       "9  10      Obi-Wan Kenobi  https://www.swapi.tech/api/people/10"
      ]
     },
     "metadata": {},
     "output_type": "display_data"
    }
   ],
   "source": [
    "import requests\n",
    "import pandas as pd\n",
    "\n",
    "def swapi_people_data():\n",
    "    response = requests.get(\"https://swapi.tech/api/people/\")\n",
    "\n",
    "    if response.status_code == 200:\n",
    "        data = response.json()\n",
    "        df = pd.DataFrame(data['results'])\n",
    "        return df\n",
    "    else:\n",
    "        print(\"Erreur\")\n",
    "        return None\n",
    "\n",
    "swapi_people_df = swapi_people_data()\n",
    "if swapi_people_df is not None:\n",
    "    display(swapi_people_df)"
   ]
  },
  {
   "cell_type": "markdown",
   "id": "8995cc55",
   "metadata": {
    "hidden": true
   },
   "source": [
    "Récupère tous mes characters"
   ]
  },
  {
   "cell_type": "code",
   "execution_count": 10,
   "id": "1717cedd",
   "metadata": {
    "hidden": true,
    "scrolled": true
   },
   "outputs": [
    {
     "data": {
      "text/html": [
       "<div>\n",
       "<style scoped>\n",
       "    .dataframe tbody tr th:only-of-type {\n",
       "        vertical-align: middle;\n",
       "    }\n",
       "\n",
       "    .dataframe tbody tr th {\n",
       "        vertical-align: top;\n",
       "    }\n",
       "\n",
       "    .dataframe thead th {\n",
       "        text-align: right;\n",
       "    }\n",
       "</style>\n",
       "<table border=\"1\" class=\"dataframe\">\n",
       "  <thead>\n",
       "    <tr style=\"text-align: right;\">\n",
       "      <th></th>\n",
       "      <th>uid</th>\n",
       "      <th>name</th>\n",
       "      <th>url</th>\n",
       "    </tr>\n",
       "  </thead>\n",
       "  <tbody>\n",
       "    <tr>\n",
       "      <th>0</th>\n",
       "      <td>1</td>\n",
       "      <td>Luke Skywalker</td>\n",
       "      <td>https://www.swapi.tech/api/people/1</td>\n",
       "    </tr>\n",
       "    <tr>\n",
       "      <th>1</th>\n",
       "      <td>2</td>\n",
       "      <td>C-3PO</td>\n",
       "      <td>https://www.swapi.tech/api/people/2</td>\n",
       "    </tr>\n",
       "    <tr>\n",
       "      <th>2</th>\n",
       "      <td>3</td>\n",
       "      <td>R2-D2</td>\n",
       "      <td>https://www.swapi.tech/api/people/3</td>\n",
       "    </tr>\n",
       "    <tr>\n",
       "      <th>3</th>\n",
       "      <td>4</td>\n",
       "      <td>Darth Vader</td>\n",
       "      <td>https://www.swapi.tech/api/people/4</td>\n",
       "    </tr>\n",
       "    <tr>\n",
       "      <th>4</th>\n",
       "      <td>5</td>\n",
       "      <td>Leia Organa</td>\n",
       "      <td>https://www.swapi.tech/api/people/5</td>\n",
       "    </tr>\n",
       "    <tr>\n",
       "      <th>...</th>\n",
       "      <td>...</td>\n",
       "      <td>...</td>\n",
       "      <td>...</td>\n",
       "    </tr>\n",
       "    <tr>\n",
       "      <th>77</th>\n",
       "      <td>79</td>\n",
       "      <td>Grievous</td>\n",
       "      <td>https://www.swapi.tech/api/people/79</td>\n",
       "    </tr>\n",
       "    <tr>\n",
       "      <th>78</th>\n",
       "      <td>80</td>\n",
       "      <td>Tarfful</td>\n",
       "      <td>https://www.swapi.tech/api/people/80</td>\n",
       "    </tr>\n",
       "    <tr>\n",
       "      <th>79</th>\n",
       "      <td>81</td>\n",
       "      <td>Raymus Antilles</td>\n",
       "      <td>https://www.swapi.tech/api/people/81</td>\n",
       "    </tr>\n",
       "    <tr>\n",
       "      <th>80</th>\n",
       "      <td>82</td>\n",
       "      <td>Sly Moore</td>\n",
       "      <td>https://www.swapi.tech/api/people/82</td>\n",
       "    </tr>\n",
       "    <tr>\n",
       "      <th>81</th>\n",
       "      <td>83</td>\n",
       "      <td>Tion Medon</td>\n",
       "      <td>https://www.swapi.tech/api/people/83</td>\n",
       "    </tr>\n",
       "  </tbody>\n",
       "</table>\n",
       "<p>82 rows × 3 columns</p>\n",
       "</div>"
      ],
      "text/plain": [
       "   uid             name                                   url\n",
       "0    1   Luke Skywalker   https://www.swapi.tech/api/people/1\n",
       "1    2            C-3PO   https://www.swapi.tech/api/people/2\n",
       "2    3            R2-D2   https://www.swapi.tech/api/people/3\n",
       "3    4      Darth Vader   https://www.swapi.tech/api/people/4\n",
       "4    5      Leia Organa   https://www.swapi.tech/api/people/5\n",
       "..  ..              ...                                   ...\n",
       "77  79         Grievous  https://www.swapi.tech/api/people/79\n",
       "78  80          Tarfful  https://www.swapi.tech/api/people/80\n",
       "79  81  Raymus Antilles  https://www.swapi.tech/api/people/81\n",
       "80  82        Sly Moore  https://www.swapi.tech/api/people/82\n",
       "81  83       Tion Medon  https://www.swapi.tech/api/people/83\n",
       "\n",
       "[82 rows x 3 columns]"
      ]
     },
     "metadata": {},
     "output_type": "display_data"
    }
   ],
   "source": [
    "def swapi_people_data():\n",
    "    next_page = \"https://swapi.tech/api/people/\"\n",
    "    all_results = []\n",
    "\n",
    "    while next_page:\n",
    "        response = requests.get(next_page)\n",
    "        if response.status_code == 200:\n",
    "            data = response.json()\n",
    "\n",
    "            all_results.extend(data['results'])\n",
    "\n",
    "            next_page = data['next']\n",
    "        else:\n",
    "            print(\"Erreur lors de la récupération des données.\")\n",
    "            return None\n",
    "\n",
    "    df = pd.DataFrame(all_results)\n",
    "    return df\n",
    "\n",
    "swapi_people_df = swapi_people_data()\n",
    "if swapi_people_df is not None:\n",
    "    display(swapi_people_df)"
   ]
  },
  {
   "cell_type": "markdown",
   "id": "4cbee0e1",
   "metadata": {
    "heading_collapsed": true
   },
   "source": [
    "# Factorisation Species"
   ]
  },
  {
   "cell_type": "code",
   "execution_count": 11,
   "id": "c07bcd96",
   "metadata": {
    "hidden": true,
    "scrolled": true
   },
   "outputs": [
    {
     "data": {
      "text/html": [
       "<div>\n",
       "<style scoped>\n",
       "    .dataframe tbody tr th:only-of-type {\n",
       "        vertical-align: middle;\n",
       "    }\n",
       "\n",
       "    .dataframe tbody tr th {\n",
       "        vertical-align: top;\n",
       "    }\n",
       "\n",
       "    .dataframe thead th {\n",
       "        text-align: right;\n",
       "    }\n",
       "</style>\n",
       "<table border=\"1\" class=\"dataframe\">\n",
       "  <thead>\n",
       "    <tr style=\"text-align: right;\">\n",
       "      <th></th>\n",
       "      <th>uid</th>\n",
       "      <th>name</th>\n",
       "      <th>url</th>\n",
       "    </tr>\n",
       "  </thead>\n",
       "  <tbody>\n",
       "    <tr>\n",
       "      <th>0</th>\n",
       "      <td>1</td>\n",
       "      <td>Human</td>\n",
       "      <td>https://www.swapi.tech/api/species/1</td>\n",
       "    </tr>\n",
       "    <tr>\n",
       "      <th>1</th>\n",
       "      <td>2</td>\n",
       "      <td>Droid</td>\n",
       "      <td>https://www.swapi.tech/api/species/2</td>\n",
       "    </tr>\n",
       "    <tr>\n",
       "      <th>2</th>\n",
       "      <td>3</td>\n",
       "      <td>Wookie</td>\n",
       "      <td>https://www.swapi.tech/api/species/3</td>\n",
       "    </tr>\n",
       "    <tr>\n",
       "      <th>3</th>\n",
       "      <td>4</td>\n",
       "      <td>Rodian</td>\n",
       "      <td>https://www.swapi.tech/api/species/4</td>\n",
       "    </tr>\n",
       "    <tr>\n",
       "      <th>4</th>\n",
       "      <td>5</td>\n",
       "      <td>Hutt</td>\n",
       "      <td>https://www.swapi.tech/api/species/5</td>\n",
       "    </tr>\n",
       "    <tr>\n",
       "      <th>5</th>\n",
       "      <td>6</td>\n",
       "      <td>Yoda's species</td>\n",
       "      <td>https://www.swapi.tech/api/species/6</td>\n",
       "    </tr>\n",
       "    <tr>\n",
       "      <th>6</th>\n",
       "      <td>7</td>\n",
       "      <td>Trandoshan</td>\n",
       "      <td>https://www.swapi.tech/api/species/7</td>\n",
       "    </tr>\n",
       "    <tr>\n",
       "      <th>7</th>\n",
       "      <td>8</td>\n",
       "      <td>Mon Calamari</td>\n",
       "      <td>https://www.swapi.tech/api/species/8</td>\n",
       "    </tr>\n",
       "    <tr>\n",
       "      <th>8</th>\n",
       "      <td>9</td>\n",
       "      <td>Ewok</td>\n",
       "      <td>https://www.swapi.tech/api/species/9</td>\n",
       "    </tr>\n",
       "    <tr>\n",
       "      <th>9</th>\n",
       "      <td>10</td>\n",
       "      <td>Sullustan</td>\n",
       "      <td>https://www.swapi.tech/api/species/10</td>\n",
       "    </tr>\n",
       "    <tr>\n",
       "      <th>10</th>\n",
       "      <td>11</td>\n",
       "      <td>Neimodian</td>\n",
       "      <td>https://www.swapi.tech/api/species/11</td>\n",
       "    </tr>\n",
       "    <tr>\n",
       "      <th>11</th>\n",
       "      <td>12</td>\n",
       "      <td>Gungan</td>\n",
       "      <td>https://www.swapi.tech/api/species/12</td>\n",
       "    </tr>\n",
       "    <tr>\n",
       "      <th>12</th>\n",
       "      <td>13</td>\n",
       "      <td>Toydarian</td>\n",
       "      <td>https://www.swapi.tech/api/species/13</td>\n",
       "    </tr>\n",
       "    <tr>\n",
       "      <th>13</th>\n",
       "      <td>14</td>\n",
       "      <td>Dug</td>\n",
       "      <td>https://www.swapi.tech/api/species/14</td>\n",
       "    </tr>\n",
       "    <tr>\n",
       "      <th>14</th>\n",
       "      <td>15</td>\n",
       "      <td>Twi'lek</td>\n",
       "      <td>https://www.swapi.tech/api/species/15</td>\n",
       "    </tr>\n",
       "    <tr>\n",
       "      <th>15</th>\n",
       "      <td>16</td>\n",
       "      <td>Aleena</td>\n",
       "      <td>https://www.swapi.tech/api/species/16</td>\n",
       "    </tr>\n",
       "    <tr>\n",
       "      <th>16</th>\n",
       "      <td>17</td>\n",
       "      <td>Vulptereen</td>\n",
       "      <td>https://www.swapi.tech/api/species/17</td>\n",
       "    </tr>\n",
       "    <tr>\n",
       "      <th>17</th>\n",
       "      <td>18</td>\n",
       "      <td>Xexto</td>\n",
       "      <td>https://www.swapi.tech/api/species/18</td>\n",
       "    </tr>\n",
       "    <tr>\n",
       "      <th>18</th>\n",
       "      <td>19</td>\n",
       "      <td>Toong</td>\n",
       "      <td>https://www.swapi.tech/api/species/19</td>\n",
       "    </tr>\n",
       "    <tr>\n",
       "      <th>19</th>\n",
       "      <td>20</td>\n",
       "      <td>Cerean</td>\n",
       "      <td>https://www.swapi.tech/api/species/20</td>\n",
       "    </tr>\n",
       "    <tr>\n",
       "      <th>20</th>\n",
       "      <td>21</td>\n",
       "      <td>Nautolan</td>\n",
       "      <td>https://www.swapi.tech/api/species/21</td>\n",
       "    </tr>\n",
       "    <tr>\n",
       "      <th>21</th>\n",
       "      <td>22</td>\n",
       "      <td>Zabrak</td>\n",
       "      <td>https://www.swapi.tech/api/species/22</td>\n",
       "    </tr>\n",
       "    <tr>\n",
       "      <th>22</th>\n",
       "      <td>23</td>\n",
       "      <td>Tholothian</td>\n",
       "      <td>https://www.swapi.tech/api/species/23</td>\n",
       "    </tr>\n",
       "    <tr>\n",
       "      <th>23</th>\n",
       "      <td>24</td>\n",
       "      <td>Iktotchi</td>\n",
       "      <td>https://www.swapi.tech/api/species/24</td>\n",
       "    </tr>\n",
       "    <tr>\n",
       "      <th>24</th>\n",
       "      <td>25</td>\n",
       "      <td>Quermian</td>\n",
       "      <td>https://www.swapi.tech/api/species/25</td>\n",
       "    </tr>\n",
       "    <tr>\n",
       "      <th>25</th>\n",
       "      <td>26</td>\n",
       "      <td>Kel Dor</td>\n",
       "      <td>https://www.swapi.tech/api/species/26</td>\n",
       "    </tr>\n",
       "    <tr>\n",
       "      <th>26</th>\n",
       "      <td>27</td>\n",
       "      <td>Chagrian</td>\n",
       "      <td>https://www.swapi.tech/api/species/27</td>\n",
       "    </tr>\n",
       "    <tr>\n",
       "      <th>27</th>\n",
       "      <td>28</td>\n",
       "      <td>Geonosian</td>\n",
       "      <td>https://www.swapi.tech/api/species/28</td>\n",
       "    </tr>\n",
       "    <tr>\n",
       "      <th>28</th>\n",
       "      <td>29</td>\n",
       "      <td>Mirialan</td>\n",
       "      <td>https://www.swapi.tech/api/species/29</td>\n",
       "    </tr>\n",
       "    <tr>\n",
       "      <th>29</th>\n",
       "      <td>30</td>\n",
       "      <td>Clawdite</td>\n",
       "      <td>https://www.swapi.tech/api/species/30</td>\n",
       "    </tr>\n",
       "    <tr>\n",
       "      <th>30</th>\n",
       "      <td>31</td>\n",
       "      <td>Besalisk</td>\n",
       "      <td>https://www.swapi.tech/api/species/31</td>\n",
       "    </tr>\n",
       "    <tr>\n",
       "      <th>31</th>\n",
       "      <td>32</td>\n",
       "      <td>Kaminoan</td>\n",
       "      <td>https://www.swapi.tech/api/species/32</td>\n",
       "    </tr>\n",
       "    <tr>\n",
       "      <th>32</th>\n",
       "      <td>33</td>\n",
       "      <td>Skakoan</td>\n",
       "      <td>https://www.swapi.tech/api/species/33</td>\n",
       "    </tr>\n",
       "    <tr>\n",
       "      <th>33</th>\n",
       "      <td>34</td>\n",
       "      <td>Muun</td>\n",
       "      <td>https://www.swapi.tech/api/species/34</td>\n",
       "    </tr>\n",
       "    <tr>\n",
       "      <th>34</th>\n",
       "      <td>35</td>\n",
       "      <td>Togruta</td>\n",
       "      <td>https://www.swapi.tech/api/species/35</td>\n",
       "    </tr>\n",
       "    <tr>\n",
       "      <th>35</th>\n",
       "      <td>36</td>\n",
       "      <td>Kaleesh</td>\n",
       "      <td>https://www.swapi.tech/api/species/36</td>\n",
       "    </tr>\n",
       "    <tr>\n",
       "      <th>36</th>\n",
       "      <td>37</td>\n",
       "      <td>Pau'an</td>\n",
       "      <td>https://www.swapi.tech/api/species/37</td>\n",
       "    </tr>\n",
       "  </tbody>\n",
       "</table>\n",
       "</div>"
      ],
      "text/plain": [
       "   uid            name                                    url\n",
       "0    1           Human   https://www.swapi.tech/api/species/1\n",
       "1    2           Droid   https://www.swapi.tech/api/species/2\n",
       "2    3          Wookie   https://www.swapi.tech/api/species/3\n",
       "3    4          Rodian   https://www.swapi.tech/api/species/4\n",
       "4    5            Hutt   https://www.swapi.tech/api/species/5\n",
       "5    6  Yoda's species   https://www.swapi.tech/api/species/6\n",
       "6    7      Trandoshan   https://www.swapi.tech/api/species/7\n",
       "7    8    Mon Calamari   https://www.swapi.tech/api/species/8\n",
       "8    9            Ewok   https://www.swapi.tech/api/species/9\n",
       "9   10       Sullustan  https://www.swapi.tech/api/species/10\n",
       "10  11       Neimodian  https://www.swapi.tech/api/species/11\n",
       "11  12          Gungan  https://www.swapi.tech/api/species/12\n",
       "12  13       Toydarian  https://www.swapi.tech/api/species/13\n",
       "13  14             Dug  https://www.swapi.tech/api/species/14\n",
       "14  15         Twi'lek  https://www.swapi.tech/api/species/15\n",
       "15  16          Aleena  https://www.swapi.tech/api/species/16\n",
       "16  17      Vulptereen  https://www.swapi.tech/api/species/17\n",
       "17  18           Xexto  https://www.swapi.tech/api/species/18\n",
       "18  19           Toong  https://www.swapi.tech/api/species/19\n",
       "19  20          Cerean  https://www.swapi.tech/api/species/20\n",
       "20  21        Nautolan  https://www.swapi.tech/api/species/21\n",
       "21  22          Zabrak  https://www.swapi.tech/api/species/22\n",
       "22  23      Tholothian  https://www.swapi.tech/api/species/23\n",
       "23  24        Iktotchi  https://www.swapi.tech/api/species/24\n",
       "24  25        Quermian  https://www.swapi.tech/api/species/25\n",
       "25  26         Kel Dor  https://www.swapi.tech/api/species/26\n",
       "26  27        Chagrian  https://www.swapi.tech/api/species/27\n",
       "27  28       Geonosian  https://www.swapi.tech/api/species/28\n",
       "28  29        Mirialan  https://www.swapi.tech/api/species/29\n",
       "29  30        Clawdite  https://www.swapi.tech/api/species/30\n",
       "30  31        Besalisk  https://www.swapi.tech/api/species/31\n",
       "31  32        Kaminoan  https://www.swapi.tech/api/species/32\n",
       "32  33         Skakoan  https://www.swapi.tech/api/species/33\n",
       "33  34            Muun  https://www.swapi.tech/api/species/34\n",
       "34  35         Togruta  https://www.swapi.tech/api/species/35\n",
       "35  36         Kaleesh  https://www.swapi.tech/api/species/36\n",
       "36  37          Pau'an  https://www.swapi.tech/api/species/37"
      ]
     },
     "metadata": {},
     "output_type": "display_data"
    }
   ],
   "source": [
    "def swapi_species_data():\n",
    "    next_page = \"https://swapi.tech/api/species/\"\n",
    "    all_results = []\n",
    "\n",
    "    while next_page:\n",
    "        response = requests.get(next_page)\n",
    "        if response.status_code == 200:\n",
    "            data = response.json()\n",
    "\n",
    "            all_results.extend(data['results'])\n",
    "\n",
    "            next_page = data['next']\n",
    "        else:\n",
    "            print(\"Erreur lors de la récupération des données.\")\n",
    "            return None\n",
    "\n",
    "    df = pd.DataFrame(all_results)\n",
    "    return df\n",
    "\n",
    "swapi_species_df = swapi_species_data()\n",
    "if swapi_species_df is not None:\n",
    "    display(swapi_species_df)"
   ]
  },
  {
   "cell_type": "markdown",
   "id": "3b2187c0",
   "metadata": {
    "heading_collapsed": true
   },
   "source": [
    "# All Ressources"
   ]
  },
  {
   "cell_type": "code",
   "execution_count": 24,
   "id": "52568334",
   "metadata": {
    "hidden": true,
    "scrolled": true
   },
   "outputs": [
    {
     "data": {
      "text/html": [
       "<div>\n",
       "<style scoped>\n",
       "    .dataframe tbody tr th:only-of-type {\n",
       "        vertical-align: middle;\n",
       "    }\n",
       "\n",
       "    .dataframe tbody tr th {\n",
       "        vertical-align: top;\n",
       "    }\n",
       "\n",
       "    .dataframe thead th {\n",
       "        text-align: right;\n",
       "    }\n",
       "</style>\n",
       "<table border=\"1\" class=\"dataframe\">\n",
       "  <thead>\n",
       "    <tr style=\"text-align: right;\">\n",
       "      <th></th>\n",
       "      <th>uid</th>\n",
       "      <th>name</th>\n",
       "      <th>url</th>\n",
       "    </tr>\n",
       "  </thead>\n",
       "  <tbody>\n",
       "    <tr>\n",
       "      <th>0</th>\n",
       "      <td>1</td>\n",
       "      <td>Human</td>\n",
       "      <td>https://www.swapi.tech/api/species/1</td>\n",
       "    </tr>\n",
       "    <tr>\n",
       "      <th>1</th>\n",
       "      <td>2</td>\n",
       "      <td>Droid</td>\n",
       "      <td>https://www.swapi.tech/api/species/2</td>\n",
       "    </tr>\n",
       "    <tr>\n",
       "      <th>2</th>\n",
       "      <td>3</td>\n",
       "      <td>Wookie</td>\n",
       "      <td>https://www.swapi.tech/api/species/3</td>\n",
       "    </tr>\n",
       "    <tr>\n",
       "      <th>3</th>\n",
       "      <td>4</td>\n",
       "      <td>Rodian</td>\n",
       "      <td>https://www.swapi.tech/api/species/4</td>\n",
       "    </tr>\n",
       "    <tr>\n",
       "      <th>4</th>\n",
       "      <td>5</td>\n",
       "      <td>Hutt</td>\n",
       "      <td>https://www.swapi.tech/api/species/5</td>\n",
       "    </tr>\n",
       "    <tr>\n",
       "      <th>5</th>\n",
       "      <td>6</td>\n",
       "      <td>Yoda's species</td>\n",
       "      <td>https://www.swapi.tech/api/species/6</td>\n",
       "    </tr>\n",
       "    <tr>\n",
       "      <th>6</th>\n",
       "      <td>7</td>\n",
       "      <td>Trandoshan</td>\n",
       "      <td>https://www.swapi.tech/api/species/7</td>\n",
       "    </tr>\n",
       "    <tr>\n",
       "      <th>7</th>\n",
       "      <td>8</td>\n",
       "      <td>Mon Calamari</td>\n",
       "      <td>https://www.swapi.tech/api/species/8</td>\n",
       "    </tr>\n",
       "    <tr>\n",
       "      <th>8</th>\n",
       "      <td>9</td>\n",
       "      <td>Ewok</td>\n",
       "      <td>https://www.swapi.tech/api/species/9</td>\n",
       "    </tr>\n",
       "    <tr>\n",
       "      <th>9</th>\n",
       "      <td>10</td>\n",
       "      <td>Sullustan</td>\n",
       "      <td>https://www.swapi.tech/api/species/10</td>\n",
       "    </tr>\n",
       "    <tr>\n",
       "      <th>10</th>\n",
       "      <td>11</td>\n",
       "      <td>Neimodian</td>\n",
       "      <td>https://www.swapi.tech/api/species/11</td>\n",
       "    </tr>\n",
       "    <tr>\n",
       "      <th>11</th>\n",
       "      <td>12</td>\n",
       "      <td>Gungan</td>\n",
       "      <td>https://www.swapi.tech/api/species/12</td>\n",
       "    </tr>\n",
       "    <tr>\n",
       "      <th>12</th>\n",
       "      <td>13</td>\n",
       "      <td>Toydarian</td>\n",
       "      <td>https://www.swapi.tech/api/species/13</td>\n",
       "    </tr>\n",
       "    <tr>\n",
       "      <th>13</th>\n",
       "      <td>14</td>\n",
       "      <td>Dug</td>\n",
       "      <td>https://www.swapi.tech/api/species/14</td>\n",
       "    </tr>\n",
       "    <tr>\n",
       "      <th>14</th>\n",
       "      <td>15</td>\n",
       "      <td>Twi'lek</td>\n",
       "      <td>https://www.swapi.tech/api/species/15</td>\n",
       "    </tr>\n",
       "    <tr>\n",
       "      <th>15</th>\n",
       "      <td>16</td>\n",
       "      <td>Aleena</td>\n",
       "      <td>https://www.swapi.tech/api/species/16</td>\n",
       "    </tr>\n",
       "    <tr>\n",
       "      <th>16</th>\n",
       "      <td>17</td>\n",
       "      <td>Vulptereen</td>\n",
       "      <td>https://www.swapi.tech/api/species/17</td>\n",
       "    </tr>\n",
       "    <tr>\n",
       "      <th>17</th>\n",
       "      <td>18</td>\n",
       "      <td>Xexto</td>\n",
       "      <td>https://www.swapi.tech/api/species/18</td>\n",
       "    </tr>\n",
       "    <tr>\n",
       "      <th>18</th>\n",
       "      <td>19</td>\n",
       "      <td>Toong</td>\n",
       "      <td>https://www.swapi.tech/api/species/19</td>\n",
       "    </tr>\n",
       "    <tr>\n",
       "      <th>19</th>\n",
       "      <td>20</td>\n",
       "      <td>Cerean</td>\n",
       "      <td>https://www.swapi.tech/api/species/20</td>\n",
       "    </tr>\n",
       "    <tr>\n",
       "      <th>20</th>\n",
       "      <td>21</td>\n",
       "      <td>Nautolan</td>\n",
       "      <td>https://www.swapi.tech/api/species/21</td>\n",
       "    </tr>\n",
       "    <tr>\n",
       "      <th>21</th>\n",
       "      <td>22</td>\n",
       "      <td>Zabrak</td>\n",
       "      <td>https://www.swapi.tech/api/species/22</td>\n",
       "    </tr>\n",
       "    <tr>\n",
       "      <th>22</th>\n",
       "      <td>23</td>\n",
       "      <td>Tholothian</td>\n",
       "      <td>https://www.swapi.tech/api/species/23</td>\n",
       "    </tr>\n",
       "    <tr>\n",
       "      <th>23</th>\n",
       "      <td>24</td>\n",
       "      <td>Iktotchi</td>\n",
       "      <td>https://www.swapi.tech/api/species/24</td>\n",
       "    </tr>\n",
       "    <tr>\n",
       "      <th>24</th>\n",
       "      <td>25</td>\n",
       "      <td>Quermian</td>\n",
       "      <td>https://www.swapi.tech/api/species/25</td>\n",
       "    </tr>\n",
       "    <tr>\n",
       "      <th>25</th>\n",
       "      <td>26</td>\n",
       "      <td>Kel Dor</td>\n",
       "      <td>https://www.swapi.tech/api/species/26</td>\n",
       "    </tr>\n",
       "    <tr>\n",
       "      <th>26</th>\n",
       "      <td>27</td>\n",
       "      <td>Chagrian</td>\n",
       "      <td>https://www.swapi.tech/api/species/27</td>\n",
       "    </tr>\n",
       "    <tr>\n",
       "      <th>27</th>\n",
       "      <td>28</td>\n",
       "      <td>Geonosian</td>\n",
       "      <td>https://www.swapi.tech/api/species/28</td>\n",
       "    </tr>\n",
       "    <tr>\n",
       "      <th>28</th>\n",
       "      <td>29</td>\n",
       "      <td>Mirialan</td>\n",
       "      <td>https://www.swapi.tech/api/species/29</td>\n",
       "    </tr>\n",
       "    <tr>\n",
       "      <th>29</th>\n",
       "      <td>30</td>\n",
       "      <td>Clawdite</td>\n",
       "      <td>https://www.swapi.tech/api/species/30</td>\n",
       "    </tr>\n",
       "    <tr>\n",
       "      <th>30</th>\n",
       "      <td>31</td>\n",
       "      <td>Besalisk</td>\n",
       "      <td>https://www.swapi.tech/api/species/31</td>\n",
       "    </tr>\n",
       "    <tr>\n",
       "      <th>31</th>\n",
       "      <td>32</td>\n",
       "      <td>Kaminoan</td>\n",
       "      <td>https://www.swapi.tech/api/species/32</td>\n",
       "    </tr>\n",
       "    <tr>\n",
       "      <th>32</th>\n",
       "      <td>33</td>\n",
       "      <td>Skakoan</td>\n",
       "      <td>https://www.swapi.tech/api/species/33</td>\n",
       "    </tr>\n",
       "    <tr>\n",
       "      <th>33</th>\n",
       "      <td>34</td>\n",
       "      <td>Muun</td>\n",
       "      <td>https://www.swapi.tech/api/species/34</td>\n",
       "    </tr>\n",
       "    <tr>\n",
       "      <th>34</th>\n",
       "      <td>35</td>\n",
       "      <td>Togruta</td>\n",
       "      <td>https://www.swapi.tech/api/species/35</td>\n",
       "    </tr>\n",
       "    <tr>\n",
       "      <th>35</th>\n",
       "      <td>36</td>\n",
       "      <td>Kaleesh</td>\n",
       "      <td>https://www.swapi.tech/api/species/36</td>\n",
       "    </tr>\n",
       "    <tr>\n",
       "      <th>36</th>\n",
       "      <td>37</td>\n",
       "      <td>Pau'an</td>\n",
       "      <td>https://www.swapi.tech/api/species/37</td>\n",
       "    </tr>\n",
       "  </tbody>\n",
       "</table>\n",
       "</div>"
      ],
      "text/plain": [
       "   uid            name                                    url\n",
       "0    1           Human   https://www.swapi.tech/api/species/1\n",
       "1    2           Droid   https://www.swapi.tech/api/species/2\n",
       "2    3          Wookie   https://www.swapi.tech/api/species/3\n",
       "3    4          Rodian   https://www.swapi.tech/api/species/4\n",
       "4    5            Hutt   https://www.swapi.tech/api/species/5\n",
       "5    6  Yoda's species   https://www.swapi.tech/api/species/6\n",
       "6    7      Trandoshan   https://www.swapi.tech/api/species/7\n",
       "7    8    Mon Calamari   https://www.swapi.tech/api/species/8\n",
       "8    9            Ewok   https://www.swapi.tech/api/species/9\n",
       "9   10       Sullustan  https://www.swapi.tech/api/species/10\n",
       "10  11       Neimodian  https://www.swapi.tech/api/species/11\n",
       "11  12          Gungan  https://www.swapi.tech/api/species/12\n",
       "12  13       Toydarian  https://www.swapi.tech/api/species/13\n",
       "13  14             Dug  https://www.swapi.tech/api/species/14\n",
       "14  15         Twi'lek  https://www.swapi.tech/api/species/15\n",
       "15  16          Aleena  https://www.swapi.tech/api/species/16\n",
       "16  17      Vulptereen  https://www.swapi.tech/api/species/17\n",
       "17  18           Xexto  https://www.swapi.tech/api/species/18\n",
       "18  19           Toong  https://www.swapi.tech/api/species/19\n",
       "19  20          Cerean  https://www.swapi.tech/api/species/20\n",
       "20  21        Nautolan  https://www.swapi.tech/api/species/21\n",
       "21  22          Zabrak  https://www.swapi.tech/api/species/22\n",
       "22  23      Tholothian  https://www.swapi.tech/api/species/23\n",
       "23  24        Iktotchi  https://www.swapi.tech/api/species/24\n",
       "24  25        Quermian  https://www.swapi.tech/api/species/25\n",
       "25  26         Kel Dor  https://www.swapi.tech/api/species/26\n",
       "26  27        Chagrian  https://www.swapi.tech/api/species/27\n",
       "27  28       Geonosian  https://www.swapi.tech/api/species/28\n",
       "28  29        Mirialan  https://www.swapi.tech/api/species/29\n",
       "29  30        Clawdite  https://www.swapi.tech/api/species/30\n",
       "30  31        Besalisk  https://www.swapi.tech/api/species/31\n",
       "31  32        Kaminoan  https://www.swapi.tech/api/species/32\n",
       "32  33         Skakoan  https://www.swapi.tech/api/species/33\n",
       "33  34            Muun  https://www.swapi.tech/api/species/34\n",
       "34  35         Togruta  https://www.swapi.tech/api/species/35\n",
       "35  36         Kaleesh  https://www.swapi.tech/api/species/36\n",
       "36  37          Pau'an  https://www.swapi.tech/api/species/37"
      ]
     },
     "metadata": {},
     "output_type": "display_data"
    }
   ],
   "source": [
    "import requests\n",
    "import pandas as pd\n",
    "\n",
    "def data(ressources):\n",
    "    next_page = f\"https://swapi.tech/api/{ressources}/\"\n",
    "    all_results = []\n",
    "\n",
    "    while next_page:\n",
    "        response = requests.get(next_page)\n",
    "        if response.status_code == 200:\n",
    "            data = response.json()\n",
    "\n",
    "            all_results.extend(data['results'])\n",
    "\n",
    "            next_page = data['next']\n",
    "        else:\n",
    "            print(\"Erreur lors de la récupération des données.\")\n",
    "            return None\n",
    "\n",
    "    df = pd.DataFrame(all_results)\n",
    "    return df\n",
    "\n",
    "ressources_df = data(\"species\")\n",
    "if ressources_df is not None:\n",
    "    display(ressources_df)"
   ]
  },
  {
   "cell_type": "markdown",
   "id": "65311816",
   "metadata": {
    "heading_collapsed": true
   },
   "source": [
    "# Listing des characters"
   ]
  },
  {
   "cell_type": "markdown",
   "id": "ba9833c8",
   "metadata": {
    "hidden": true
   },
   "source": [
    "Recuperer tous mes characters en une liste sans détail"
   ]
  },
  {
   "cell_type": "code",
   "execution_count": 15,
   "id": "cf983c26",
   "metadata": {
    "hidden": true,
    "scrolled": false
   },
   "outputs": [
    {
     "name": "stdout",
     "output_type": "stream",
     "text": [
      "Personnages : Luke Skywalker, C-3PO, R2-D2, Darth Vader, Leia Organa, Owen Lars, Beru Whitesun lars, R5-D4, Biggs Darklighter, Obi-Wan Kenobi, Anakin Skywalker, Wilhuff Tarkin, Chewbacca, Han Solo, Greedo, Jabba Desilijic Tiure, Wedge Antilles, Jek Tono Porkins, Yoda, Palpatine, Boba Fett, IG-88, Bossk, Lando Calrissian, Lobot, Ackbar, Mon Mothma, Arvel Crynyd, Wicket Systri Warrick, Nien Nunb, Qui-Gon Jinn, Nute Gunray, Finis Valorum, Padmé Amidala, Jar Jar Binks, Roos Tarpals, Rugor Nass, Ric Olié, Watto, Sebulba, Quarsh Panaka, Shmi Skywalker, Darth Maul, Bib Fortuna, Ayla Secura, Ratts Tyerel, Dud Bolt, Gasgano, Ben Quadinaros, Mace Windu, Ki-Adi-Mundi, Kit Fisto, Eeth Koth, Adi Gallia, Saesee Tiin, Yarael Poof, Plo Koon, Mas Amedda, Gregar Typho, Cordé, Cliegg Lars, Poggle the Lesser, Luminara Unduli, Barriss Offee, Dormé, Dooku, Bail Prestor Organa, Jango Fett, Zam Wesell, Dexter Jettster, Lama Su, Taun We, Jocasta Nu, R4-P17, Wat Tambor, San Hill, Shaak Ti, Grievous, Tarfful, Raymus Antilles, Sly Moore, Tion Medon\n"
     ]
    }
   ],
   "source": [
    "import requests\n",
    "\n",
    "def get_characters_names():\n",
    "    next_page = \"https://swapi.tech/api/people/\"\n",
    "    all_results = []\n",
    "\n",
    "    while next_page:\n",
    "        response = requests.get(next_page)\n",
    "        if response.status_code == 200:\n",
    "            data = response.json()\n",
    "\n",
    "            all_results.extend(data['results'])\n",
    "\n",
    "            next_page = data['next']\n",
    "        else:\n",
    "            print(\"Fail, essaye encore !\")\n",
    "            return None\n",
    "\n",
    "    names = [result['name'] for result in all_results]\n",
    "    return names\n",
    "\n",
    "character_names = get_characters_names()\n",
    "\n",
    "if character_names is not None:\n",
    "    result_string = \", \".join(character_names)\n",
    "    print(\"Personnages :\", result_string)\n"
   ]
  },
  {
   "cell_type": "code",
   "execution_count": 20,
   "id": "cc61f40f",
   "metadata": {
    "hidden": true
   },
   "outputs": [
    {
     "ename": "KeyError",
     "evalue": "'films'",
     "output_type": "error",
     "traceback": [
      "\u001b[0;31m---------------------------------------------------------------------------\u001b[0m",
      "\u001b[0;31mKeyError\u001b[0m                                  Traceback (most recent call last)",
      "Cell \u001b[0;32mIn [20], line 17\u001b[0m\n\u001b[1;32m     14\u001b[0m     \u001b[38;5;28;01melse\u001b[39;00m:\n\u001b[1;32m     15\u001b[0m         \u001b[38;5;28mprint\u001b[39m(\u001b[38;5;124m\"\u001b[39m\u001b[38;5;124mErreur lors de la récupération des données des personnages.\u001b[39m\u001b[38;5;124m\"\u001b[39m)\n\u001b[0;32m---> 17\u001b[0m \u001b[43mcharacters_and_films\u001b[49m\u001b[43m(\u001b[49m\u001b[43m)\u001b[49m\n",
      "Cell \u001b[0;32mIn [20], line 10\u001b[0m, in \u001b[0;36mcharacters_and_films\u001b[0;34m()\u001b[0m\n\u001b[1;32m      8\u001b[0m characters_data \u001b[38;5;241m=\u001b[39m response\u001b[38;5;241m.\u001b[39mjson()[\u001b[38;5;124m'\u001b[39m\u001b[38;5;124mresults\u001b[39m\u001b[38;5;124m'\u001b[39m]\n\u001b[1;32m      9\u001b[0m \u001b[38;5;28;01mfor\u001b[39;00m character \u001b[38;5;129;01min\u001b[39;00m characters_data:\n\u001b[0;32m---> 10\u001b[0m     films \u001b[38;5;241m=\u001b[39m [requests\u001b[38;5;241m.\u001b[39mget(film)\u001b[38;5;241m.\u001b[39mjson()[\u001b[38;5;124m'\u001b[39m\u001b[38;5;124mtitle\u001b[39m\u001b[38;5;124m'\u001b[39m] \u001b[38;5;28;01mfor\u001b[39;00m film \u001b[38;5;129;01min\u001b[39;00m \u001b[43mcharacter\u001b[49m\u001b[43m[\u001b[49m\u001b[38;5;124;43m'\u001b[39;49m\u001b[38;5;124;43mfilms\u001b[39;49m\u001b[38;5;124;43m'\u001b[39;49m\u001b[43m]\u001b[49m]\n\u001b[1;32m     11\u001b[0m     \u001b[38;5;28mprint\u001b[39m(\u001b[38;5;124mf\u001b[39m\u001b[38;5;124m\"\u001b[39m\u001b[38;5;124mNom du personnage: \u001b[39m\u001b[38;5;132;01m{\u001b[39;00mcharacter[\u001b[38;5;124m'\u001b[39m\u001b[38;5;124mname\u001b[39m\u001b[38;5;124m'\u001b[39m]\u001b[38;5;132;01m}\u001b[39;00m\u001b[38;5;124m\"\u001b[39m)\n\u001b[1;32m     12\u001b[0m     \u001b[38;5;28mprint\u001b[39m(\u001b[38;5;124m\"\u001b[39m\u001b[38;5;124mFilms où il apparaît:\u001b[39m\u001b[38;5;124m\"\u001b[39m, films)\n",
      "\u001b[0;31mKeyError\u001b[0m: 'films'"
     ]
    }
   ],
   "source": [
    "import requests\n",
    "\n",
    "def characters_and_films():\n",
    "    characters_url = \"https://swapi.tech/api/people/\"\n",
    "    response = requests.get(characters_url)\n",
    "    \n",
    "    if response.status_code == 200:\n",
    "        characters_data = response.json()['results']\n",
    "        for character in characters_data:\n",
    "            films = [requests.get(film).json()['title'] for film in character['films']]\n",
    "            print(f\"Nom du personnage: {character['name']}\")\n",
    "            print(\"Films où il apparaît:\", films)\n",
    "            print()\n",
    "    else:\n",
    "        print(\"Erreur lors de la récupération des données des personnages.\")\n",
    "\n",
    "characters_and_films()"
   ]
  },
  {
   "cell_type": "markdown",
   "id": "75f91dac",
   "metadata": {},
   "source": [
    "# Classification et tri"
   ]
  },
  {
   "cell_type": "markdown",
   "id": "cc791317",
   "metadata": {},
   "source": [
    "Trier par classification et récupération uniquement de \"name\" et \"classification\""
   ]
  },
  {
   "cell_type": "code",
   "execution_count": 21,
   "id": "0b1c1202",
   "metadata": {
    "scrolled": false
   },
   "outputs": [
    {
     "ename": "KeyError",
     "evalue": "\"['classification'] not in index\"",
     "output_type": "error",
     "traceback": [
      "\u001b[0;31m---------------------------------------------------------------------------\u001b[0m",
      "\u001b[0;31mKeyError\u001b[0m                                  Traceback (most recent call last)",
      "Cell \u001b[0;32mIn [21], line 31\u001b[0m\n\u001b[1;32m     29\u001b[0m \u001b[38;5;28;01mif\u001b[39;00m species_df \u001b[38;5;129;01mis\u001b[39;00m \u001b[38;5;129;01mnot\u001b[39;00m \u001b[38;5;28;01mNone\u001b[39;00m:\n\u001b[1;32m     30\u001b[0m     selected_columns \u001b[38;5;241m=\u001b[39m [\u001b[38;5;124m'\u001b[39m\u001b[38;5;124mname\u001b[39m\u001b[38;5;124m'\u001b[39m, \u001b[38;5;124m'\u001b[39m\u001b[38;5;124mclassification\u001b[39m\u001b[38;5;124m'\u001b[39m]\n\u001b[0;32m---> 31\u001b[0m     species_df \u001b[38;5;241m=\u001b[39m \u001b[43mspecies_df\u001b[49m\u001b[43m[\u001b[49m\u001b[43mselected_columns\u001b[49m\u001b[43m]\u001b[49m\u001b[38;5;241m.\u001b[39msort_values(by\u001b[38;5;241m=\u001b[39m\u001b[38;5;124m'\u001b[39m\u001b[38;5;124mclassification\u001b[39m\u001b[38;5;124m'\u001b[39m)\n\u001b[1;32m     32\u001b[0m     display(species_df)\n",
      "File \u001b[0;32m~/.pyenv/versions/3.10.6/envs/lewagon/lib/python3.10/site-packages/pandas/core/frame.py:3511\u001b[0m, in \u001b[0;36mDataFrame.__getitem__\u001b[0;34m(self, key)\u001b[0m\n\u001b[1;32m   3509\u001b[0m     \u001b[38;5;28;01mif\u001b[39;00m is_iterator(key):\n\u001b[1;32m   3510\u001b[0m         key \u001b[38;5;241m=\u001b[39m \u001b[38;5;28mlist\u001b[39m(key)\n\u001b[0;32m-> 3511\u001b[0m     indexer \u001b[38;5;241m=\u001b[39m \u001b[38;5;28;43mself\u001b[39;49m\u001b[38;5;241;43m.\u001b[39;49m\u001b[43mcolumns\u001b[49m\u001b[38;5;241;43m.\u001b[39;49m\u001b[43m_get_indexer_strict\u001b[49m\u001b[43m(\u001b[49m\u001b[43mkey\u001b[49m\u001b[43m,\u001b[49m\u001b[43m \u001b[49m\u001b[38;5;124;43m\"\u001b[39;49m\u001b[38;5;124;43mcolumns\u001b[39;49m\u001b[38;5;124;43m\"\u001b[39;49m\u001b[43m)\u001b[49m[\u001b[38;5;241m1\u001b[39m]\n\u001b[1;32m   3513\u001b[0m \u001b[38;5;66;03m# take() does not accept boolean indexers\u001b[39;00m\n\u001b[1;32m   3514\u001b[0m \u001b[38;5;28;01mif\u001b[39;00m \u001b[38;5;28mgetattr\u001b[39m(indexer, \u001b[38;5;124m\"\u001b[39m\u001b[38;5;124mdtype\u001b[39m\u001b[38;5;124m\"\u001b[39m, \u001b[38;5;28;01mNone\u001b[39;00m) \u001b[38;5;241m==\u001b[39m \u001b[38;5;28mbool\u001b[39m:\n",
      "File \u001b[0;32m~/.pyenv/versions/3.10.6/envs/lewagon/lib/python3.10/site-packages/pandas/core/indexes/base.py:5796\u001b[0m, in \u001b[0;36mIndex._get_indexer_strict\u001b[0;34m(self, key, axis_name)\u001b[0m\n\u001b[1;32m   5793\u001b[0m \u001b[38;5;28;01melse\u001b[39;00m:\n\u001b[1;32m   5794\u001b[0m     keyarr, indexer, new_indexer \u001b[38;5;241m=\u001b[39m \u001b[38;5;28mself\u001b[39m\u001b[38;5;241m.\u001b[39m_reindex_non_unique(keyarr)\n\u001b[0;32m-> 5796\u001b[0m \u001b[38;5;28;43mself\u001b[39;49m\u001b[38;5;241;43m.\u001b[39;49m\u001b[43m_raise_if_missing\u001b[49m\u001b[43m(\u001b[49m\u001b[43mkeyarr\u001b[49m\u001b[43m,\u001b[49m\u001b[43m \u001b[49m\u001b[43mindexer\u001b[49m\u001b[43m,\u001b[49m\u001b[43m \u001b[49m\u001b[43maxis_name\u001b[49m\u001b[43m)\u001b[49m\n\u001b[1;32m   5798\u001b[0m keyarr \u001b[38;5;241m=\u001b[39m \u001b[38;5;28mself\u001b[39m\u001b[38;5;241m.\u001b[39mtake(indexer)\n\u001b[1;32m   5799\u001b[0m \u001b[38;5;28;01mif\u001b[39;00m \u001b[38;5;28misinstance\u001b[39m(key, Index):\n\u001b[1;32m   5800\u001b[0m     \u001b[38;5;66;03m# GH 42790 - Preserve name from an Index\u001b[39;00m\n",
      "File \u001b[0;32m~/.pyenv/versions/3.10.6/envs/lewagon/lib/python3.10/site-packages/pandas/core/indexes/base.py:5859\u001b[0m, in \u001b[0;36mIndex._raise_if_missing\u001b[0;34m(self, key, indexer, axis_name)\u001b[0m\n\u001b[1;32m   5856\u001b[0m     \u001b[38;5;28;01mraise\u001b[39;00m \u001b[38;5;167;01mKeyError\u001b[39;00m(\u001b[38;5;124mf\u001b[39m\u001b[38;5;124m\"\u001b[39m\u001b[38;5;124mNone of [\u001b[39m\u001b[38;5;132;01m{\u001b[39;00mkey\u001b[38;5;132;01m}\u001b[39;00m\u001b[38;5;124m] are in the [\u001b[39m\u001b[38;5;132;01m{\u001b[39;00maxis_name\u001b[38;5;132;01m}\u001b[39;00m\u001b[38;5;124m]\u001b[39m\u001b[38;5;124m\"\u001b[39m)\n\u001b[1;32m   5858\u001b[0m not_found \u001b[38;5;241m=\u001b[39m \u001b[38;5;28mlist\u001b[39m(ensure_index(key)[missing_mask\u001b[38;5;241m.\u001b[39mnonzero()[\u001b[38;5;241m0\u001b[39m]]\u001b[38;5;241m.\u001b[39munique())\n\u001b[0;32m-> 5859\u001b[0m \u001b[38;5;28;01mraise\u001b[39;00m \u001b[38;5;167;01mKeyError\u001b[39;00m(\u001b[38;5;124mf\u001b[39m\u001b[38;5;124m\"\u001b[39m\u001b[38;5;132;01m{\u001b[39;00mnot_found\u001b[38;5;132;01m}\u001b[39;00m\u001b[38;5;124m not in index\u001b[39m\u001b[38;5;124m\"\u001b[39m)\n",
      "\u001b[0;31mKeyError\u001b[0m: \"['classification'] not in index\""
     ]
    }
   ],
   "source": [
    "import requests\n",
    "import pandas as pd\n",
    "\n",
    "#Je récupére toutes mes données\n",
    "\n",
    "def species_data():\n",
    "    next_page = \"https://www.swapi.tech/api/species/\"\n",
    "    all_results = []\n",
    "\n",
    "    while next_page:\n",
    "        response = requests.get(next_page)\n",
    "        if response.status_code == 200:\n",
    "            data = response.json()\n",
    "\n",
    "            all_results.extend(data['results'])\n",
    "\n",
    "            next_page = data['next']\n",
    "        else:\n",
    "            print(\"Erreur lors de la récupération des données.\")\n",
    "            return None\n",
    "\n",
    "    df = pd.DataFrame(all_results)\n",
    "    return df\n",
    "\n",
    "species_df = species_data()\n",
    "\n",
    "#Je tri par la classification\n",
    "\n",
    "if species_df is not None:\n",
    "    selected_columns = ['name', 'classification']\n",
    "    species_df = species_df[selected_columns].sort_values(by='classification')\n",
    "    display(species_df)"
   ]
  },
  {
   "cell_type": "markdown",
   "id": "cc35a49b",
   "metadata": {},
   "source": [
    "Tri et classification de \"name\" et \"classification\" en les stockant chacun dans un dataframe dédiés"
   ]
  },
  {
   "cell_type": "code",
   "execution_count": 23,
   "id": "fd020993",
   "metadata": {
    "scrolled": false
   },
   "outputs": [
    {
     "ename": "KeyError",
     "evalue": "\"['classification'] not in index\"",
     "output_type": "error",
     "traceback": [
      "\u001b[0;31m---------------------------------------------------------------------------\u001b[0m",
      "\u001b[0;31mKeyError\u001b[0m                                  Traceback (most recent call last)",
      "Cell \u001b[0;32mIn [23], line 36\u001b[0m\n\u001b[1;32m     33\u001b[0m species_df \u001b[38;5;241m=\u001b[39m species_data()\n\u001b[1;32m     35\u001b[0m \u001b[38;5;28;01mif\u001b[39;00m species_df \u001b[38;5;129;01mis\u001b[39;00m \u001b[38;5;129;01mnot\u001b[39;00m \u001b[38;5;28;01mNone\u001b[39;00m:\n\u001b[0;32m---> 36\u001b[0m     \u001b[43mspecies_by_classification\u001b[49m\u001b[43m(\u001b[49m\u001b[43mspecies_df\u001b[49m\u001b[43m)\u001b[49m\n",
      "Cell \u001b[0;32mIn [23], line 25\u001b[0m, in \u001b[0;36mspecies_by_classification\u001b[0;34m(df)\u001b[0m\n\u001b[1;32m     23\u001b[0m \u001b[38;5;28;01mdef\u001b[39;00m \u001b[38;5;21mspecies_by_classification\u001b[39m(df):\n\u001b[1;32m     24\u001b[0m     \u001b[38;5;28;01mif\u001b[39;00m \u001b[38;5;129;01mnot\u001b[39;00m df\u001b[38;5;241m.\u001b[39mempty:\n\u001b[0;32m---> 25\u001b[0m         df \u001b[38;5;241m=\u001b[39m \u001b[43mdf\u001b[49m\u001b[43m[\u001b[49m\u001b[43m[\u001b[49m\u001b[38;5;124;43m'\u001b[39;49m\u001b[38;5;124;43mname\u001b[39;49m\u001b[38;5;124;43m'\u001b[39;49m\u001b[43m,\u001b[49m\u001b[43m \u001b[49m\u001b[38;5;124;43m'\u001b[39;49m\u001b[38;5;124;43mclassification\u001b[39;49m\u001b[38;5;124;43m'\u001b[39;49m\u001b[43m]\u001b[49m\u001b[43m]\u001b[49m\u001b[38;5;241m.\u001b[39msort_values(by\u001b[38;5;241m=\u001b[39m\u001b[38;5;124m'\u001b[39m\u001b[38;5;124mname\u001b[39m\u001b[38;5;124m'\u001b[39m)\n\u001b[1;32m     26\u001b[0m         \u001b[38;5;28;01mfor\u001b[39;00m classification, group \u001b[38;5;129;01min\u001b[39;00m df\u001b[38;5;241m.\u001b[39mgroupby(\u001b[38;5;124m'\u001b[39m\u001b[38;5;124mclassification\u001b[39m\u001b[38;5;124m'\u001b[39m):\n\u001b[1;32m     27\u001b[0m             \u001b[38;5;28mprint\u001b[39m(\u001b[38;5;124mf\u001b[39m\u001b[38;5;124m\"\u001b[39m\u001b[38;5;124mClassification: \u001b[39m\u001b[38;5;132;01m{\u001b[39;00mclassification\u001b[38;5;132;01m}\u001b[39;00m\u001b[38;5;124m\"\u001b[39m)\n",
      "File \u001b[0;32m~/.pyenv/versions/3.10.6/envs/lewagon/lib/python3.10/site-packages/pandas/core/frame.py:3511\u001b[0m, in \u001b[0;36mDataFrame.__getitem__\u001b[0;34m(self, key)\u001b[0m\n\u001b[1;32m   3509\u001b[0m     \u001b[38;5;28;01mif\u001b[39;00m is_iterator(key):\n\u001b[1;32m   3510\u001b[0m         key \u001b[38;5;241m=\u001b[39m \u001b[38;5;28mlist\u001b[39m(key)\n\u001b[0;32m-> 3511\u001b[0m     indexer \u001b[38;5;241m=\u001b[39m \u001b[38;5;28;43mself\u001b[39;49m\u001b[38;5;241;43m.\u001b[39;49m\u001b[43mcolumns\u001b[49m\u001b[38;5;241;43m.\u001b[39;49m\u001b[43m_get_indexer_strict\u001b[49m\u001b[43m(\u001b[49m\u001b[43mkey\u001b[49m\u001b[43m,\u001b[49m\u001b[43m \u001b[49m\u001b[38;5;124;43m\"\u001b[39;49m\u001b[38;5;124;43mcolumns\u001b[39;49m\u001b[38;5;124;43m\"\u001b[39;49m\u001b[43m)\u001b[49m[\u001b[38;5;241m1\u001b[39m]\n\u001b[1;32m   3513\u001b[0m \u001b[38;5;66;03m# take() does not accept boolean indexers\u001b[39;00m\n\u001b[1;32m   3514\u001b[0m \u001b[38;5;28;01mif\u001b[39;00m \u001b[38;5;28mgetattr\u001b[39m(indexer, \u001b[38;5;124m\"\u001b[39m\u001b[38;5;124mdtype\u001b[39m\u001b[38;5;124m\"\u001b[39m, \u001b[38;5;28;01mNone\u001b[39;00m) \u001b[38;5;241m==\u001b[39m \u001b[38;5;28mbool\u001b[39m:\n",
      "File \u001b[0;32m~/.pyenv/versions/3.10.6/envs/lewagon/lib/python3.10/site-packages/pandas/core/indexes/base.py:5796\u001b[0m, in \u001b[0;36mIndex._get_indexer_strict\u001b[0;34m(self, key, axis_name)\u001b[0m\n\u001b[1;32m   5793\u001b[0m \u001b[38;5;28;01melse\u001b[39;00m:\n\u001b[1;32m   5794\u001b[0m     keyarr, indexer, new_indexer \u001b[38;5;241m=\u001b[39m \u001b[38;5;28mself\u001b[39m\u001b[38;5;241m.\u001b[39m_reindex_non_unique(keyarr)\n\u001b[0;32m-> 5796\u001b[0m \u001b[38;5;28;43mself\u001b[39;49m\u001b[38;5;241;43m.\u001b[39;49m\u001b[43m_raise_if_missing\u001b[49m\u001b[43m(\u001b[49m\u001b[43mkeyarr\u001b[49m\u001b[43m,\u001b[49m\u001b[43m \u001b[49m\u001b[43mindexer\u001b[49m\u001b[43m,\u001b[49m\u001b[43m \u001b[49m\u001b[43maxis_name\u001b[49m\u001b[43m)\u001b[49m\n\u001b[1;32m   5798\u001b[0m keyarr \u001b[38;5;241m=\u001b[39m \u001b[38;5;28mself\u001b[39m\u001b[38;5;241m.\u001b[39mtake(indexer)\n\u001b[1;32m   5799\u001b[0m \u001b[38;5;28;01mif\u001b[39;00m \u001b[38;5;28misinstance\u001b[39m(key, Index):\n\u001b[1;32m   5800\u001b[0m     \u001b[38;5;66;03m# GH 42790 - Preserve name from an Index\u001b[39;00m\n",
      "File \u001b[0;32m~/.pyenv/versions/3.10.6/envs/lewagon/lib/python3.10/site-packages/pandas/core/indexes/base.py:5859\u001b[0m, in \u001b[0;36mIndex._raise_if_missing\u001b[0;34m(self, key, indexer, axis_name)\u001b[0m\n\u001b[1;32m   5856\u001b[0m     \u001b[38;5;28;01mraise\u001b[39;00m \u001b[38;5;167;01mKeyError\u001b[39;00m(\u001b[38;5;124mf\u001b[39m\u001b[38;5;124m\"\u001b[39m\u001b[38;5;124mNone of [\u001b[39m\u001b[38;5;132;01m{\u001b[39;00mkey\u001b[38;5;132;01m}\u001b[39;00m\u001b[38;5;124m] are in the [\u001b[39m\u001b[38;5;132;01m{\u001b[39;00maxis_name\u001b[38;5;132;01m}\u001b[39;00m\u001b[38;5;124m]\u001b[39m\u001b[38;5;124m\"\u001b[39m)\n\u001b[1;32m   5858\u001b[0m not_found \u001b[38;5;241m=\u001b[39m \u001b[38;5;28mlist\u001b[39m(ensure_index(key)[missing_mask\u001b[38;5;241m.\u001b[39mnonzero()[\u001b[38;5;241m0\u001b[39m]]\u001b[38;5;241m.\u001b[39munique())\n\u001b[0;32m-> 5859\u001b[0m \u001b[38;5;28;01mraise\u001b[39;00m \u001b[38;5;167;01mKeyError\u001b[39;00m(\u001b[38;5;124mf\u001b[39m\u001b[38;5;124m\"\u001b[39m\u001b[38;5;132;01m{\u001b[39;00mnot_found\u001b[38;5;132;01m}\u001b[39;00m\u001b[38;5;124m not in index\u001b[39m\u001b[38;5;124m\"\u001b[39m)\n",
      "\u001b[0;31mKeyError\u001b[0m: \"['classification'] not in index\""
     ]
    }
   ],
   "source": [
    "import requests\n",
    "import pandas as pd\n",
    "\n",
    "# Je récupère les données de mon API species\n",
    "def species_data():\n",
    "    url = \"https://www.swapi.tech/api/species/\"\n",
    "    all_results = []\n",
    "\n",
    "    while url:\n",
    "        response = requests.get(url)\n",
    "        if response.status_code == 200:\n",
    "            data = response.json()\n",
    "            all_results.extend(data['results'])\n",
    "            url = data['next']\n",
    "        else:\n",
    "            print(\"Erreur lors de la récupération des données.\")\n",
    "            return None\n",
    "\n",
    "    return pd.DataFrame(all_results)\n",
    "\n",
    "# Je classe, trie et stocke mes informations en fonction de leur classification\n",
    "# tout en gardant les données de \"name\" & \"classification\" dans des dataframes dédiés\n",
    "def species_by_classification(df):\n",
    "    if not df.empty:\n",
    "        df = df[['name', 'classification']].sort_values(by='name')\n",
    "        for classification, group in df.groupby('classification'):\n",
    "            print(f\"Classification: {classification}\")\n",
    "            display(group)\n",
    "            print()\n",
    "    else:\n",
    "        print(\"Le DataFrame est vide.\")\n",
    "\n",
    "species_df = species_data()\n",
    "\n",
    "if species_df is not None:\n",
    "    species_by_classification(species_df)\n"
   ]
  }
 ],
 "metadata": {
  "kernelspec": {
   "display_name": "Python 3 (ipykernel)",
   "language": "python",
   "name": "python3"
  },
  "language_info": {
   "codemirror_mode": {
    "name": "ipython",
    "version": 3
   },
   "file_extension": ".py",
   "mimetype": "text/x-python",
   "name": "python",
   "nbconvert_exporter": "python",
   "pygments_lexer": "ipython3",
   "version": "3.10.6"
  },
  "toc": {
   "base_numbering": 1,
   "nav_menu": {},
   "number_sections": true,
   "sideBar": true,
   "skip_h1_title": false,
   "title_cell": "Table of Contents",
   "title_sidebar": "Contents",
   "toc_cell": false,
   "toc_position": {},
   "toc_section_display": true,
   "toc_window_display": false
  }
 },
 "nbformat": 4,
 "nbformat_minor": 5
}
