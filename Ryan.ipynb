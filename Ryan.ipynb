{
 "cells": [
  {
   "cell_type": "code",
   "execution_count": 1,
   "id": "ed025dfc",
   "metadata": {},
   "outputs": [],
   "source": [
    "import main"
   ]
  },
  {
   "cell_type": "code",
   "execution_count": 2,
   "id": "77d6d37c",
   "metadata": {},
   "outputs": [
    {
     "name": "stdout",
     "output_type": "stream",
     "text": [
      "\r\n",
      "\r\n",
      "\r\n",
      "\u001b[4m\u001b[1m\u001b[32mThe Star Wars API\u001b[0m\r\n",
      "\r\n",
      "\u001b[4mUsage\u001b[0m:\r\n",
      "\u001b[90mpython3 main.py info\u001b[0m\r\n",
      "\u001b[90mpython3 main.py resources\u001b[0m\r\n",
      "\u001b[90mpython3 main.py <resource> <schema>\u001b[0m\r\n",
      "\u001b[90mpython3 main.py search <resource> <search string>\u001b[0m\r\n",
      "\r\n",
      "<resources> are: people, planets, films, species, vehicles, starships\r\n",
      "\r\n",
      "\u001b[4mExamples\u001b[0m:\r\n",
      "\u001b[90mpython3 main.py planets 3\u001b[0m\r\n",
      "\u001b[90mpython3 main.py search planets hoth\u001b[0m\r\n",
      "\r\n",
      "\r\n",
      "\r\n"
     ]
    }
   ],
   "source": [
    "!python main.py"
   ]
  },
  {
   "cell_type": "code",
   "execution_count": 12,
   "id": "ba5ef36c",
   "metadata": {},
   "outputs": [
    {
     "name": "stdout",
     "output_type": "stream",
     "text": [
      "\n",
      "{\n",
      "    \"name\": \"Umbara\",\n",
      "    \"rotation_period\": \"unknown\",\n",
      "    \"orbital_period\": \"unknown\",\n",
      "    \"diameter\": \"unknown\",\n",
      "    \"climate\": \"unknown\",\n",
      "    \"gravity\": \"unknown\",\n",
      "    \"terrain\": \"unknown\",\n",
      "    \"surface_water\": \"unknown\",\n",
      "    \"population\": \"unknown\",\n",
      "    \"residents\": [\n",
      "        \"https://swapi.dev/api/people/82/\"\n",
      "    ],\n",
      "    \"films\": [],\n",
      "    \"created\": \"2014-12-20T20:18:36.256000Z\",\n",
      "    \"edited\": \"2014-12-20T20:58:18.525000Z\",\n",
      "    \"url\": \"https://swapi.dev/api/planets/60/\"\n",
      "}\n"
     ]
    }
   ],
   "source": [
    "!python main.py planets 60 "
   ]
  },
  {
   "cell_type": "markdown",
   "id": "c0900997",
   "metadata": {},
   "source": []
  }
 ],
 "metadata": {
  "kernelspec": {
   "display_name": "Python 3 (ipykernel)",
   "language": "python",
   "name": "python3"
  },
  "language_info": {
   "codemirror_mode": {
    "name": "ipython",
    "version": 3
   },
   "file_extension": ".py",
   "mimetype": "text/x-python",
   "name": "python",
   "nbconvert_exporter": "python",
   "pygments_lexer": "ipython3",
   "version": "3.10.6"
  },
  "toc": {
   "base_numbering": 1,
   "nav_menu": {},
   "number_sections": true,
   "sideBar": true,
   "skip_h1_title": false,
   "title_cell": "Table of Contents",
   "title_sidebar": "Contents",
   "toc_cell": false,
   "toc_position": {},
   "toc_section_display": true,
   "toc_window_display": false
  }
 },
 "nbformat": 4,
 "nbformat_minor": 5
}
